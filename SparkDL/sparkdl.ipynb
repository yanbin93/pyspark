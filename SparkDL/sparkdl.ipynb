{
 "cells": [
  {
   "cell_type": "code",
   "execution_count": 65,
   "metadata": {
    "collapsed": true
   },
   "outputs": [],
   "source": [
    "from pyspark.sql import SparkSession\n",
    "from pyspark import SparkContext,SparkConf\n",
    "\n",
    "spark = SparkSession.builder.\\\n",
    "            master(\"local\").\\\n",
    "            appName(\"amzone\").\\\n",
    "            config(\"packages\",\n",
    "        \"databricks:spark-deep-learning:0.1.0-spark2.1-s_2.11\").\\\n",
    "            enableHiveSupport().\\\n",
    "            getOrCreate()\n",
    "sc = spark.sparkContext\n",
    "sc.PACKAGE_EXTENSIONS=(\"databricks:spark-deep-learning:0.1.0-spark2.1-s_2.11\")"
   ]
  },
  {
   "cell_type": "code",
   "execution_count": 64,
   "metadata": {
    "collapsed": true
   },
   "outputs": [],
   "source": [
    "sc.stop()\n",
    "spark.stop()"
   ]
  },
  {
   "cell_type": "code",
   "execution_count": 66,
   "metadata": {},
   "outputs": [
    {
     "name": "stdout",
     "output_type": "stream",
     "text": [
      "+--------------------+--------------------+-----+\n",
      "|            filePath|               image|label|\n",
      "+--------------------+--------------------+-----+\n",
      "|hdfs://master1:90...|[RGB,332,500,3,[B...|    1|\n",
      "|hdfs://master1:90...|[RGB,212,320,3,[B...|    1|\n",
      "|hdfs://master1:90...|[RGB,274,320,3,[B...|    1|\n",
      "|hdfs://master1:90...|[RGB,332,500,3,[B...|    1|\n",
      "|hdfs://master1:90...|[RGB,332,500,3,[B...|    1|\n",
      "|hdfs://master1:90...|[RGB,282,320,3,[B...|    1|\n",
      "|hdfs://master1:90...|[RGB,333,500,3,[B...|    1|\n",
      "|hdfs://master1:90...|[RGB,336,500,3,[B...|    1|\n",
      "|hdfs://master1:90...|[RGB,240,320,3,[B...|    1|\n",
      "|hdfs://master1:90...|[RGB,243,320,3,[B...|    0|\n",
      "|hdfs://master1:90...|[RGB,333,500,3,[B...|    0|\n",
      "|hdfs://master1:90...|[RGB,240,240,3,[B...|    0|\n",
      "|hdfs://master1:90...|[RGB,240,320,3,[B...|    0|\n",
      "|hdfs://master1:90...|[RGB,240,240,3,[B...|    0|\n",
      "|hdfs://master1:90...|[RGB,335,500,3,[B...|    0|\n",
      "|hdfs://master1:90...|[RGB,225,320,3,[B...|    0|\n",
      "|hdfs://master1:90...|[RGB,333,500,3,[B...|    0|\n",
      "|hdfs://master1:90...|[RGB,213,320,3,[B...|    0|\n",
      "|hdfs://master1:90...|[RGB,333,500,3,[B...|    0|\n",
      "|hdfs://master1:90...|[RGB,333,500,3,[B...|    0|\n",
      "+--------------------+--------------------+-----+\n",
      "only showing top 20 rows\n",
      "\n"
     ]
    }
   ],
   "source": [
    "from sparkdl import readImages\n",
    "from pyspark.sql.functions import lit\n",
    "img_dir = \"data/flower\"\n",
    "tulips_df = readImages(img_dir + \"/sunflower\").withColumn(\"label\", lit(1))\n",
    "daisy_df = readImages(img_dir + \"/daisy\").withColumn(\"label\", lit(0))\n",
    "tulips_train, tulips_test = tulips_df.randomSplit([0.6, 0.4])\n",
    "daisy_train, daisy_test = daisy_df.randomSplit([0.6, 0.4])\n",
    "train_df = tulips_train.unionAll(daisy_train)\n",
    "test_df = tulips_test.unionAll(daisy_test)\n",
    "# train_df.show()\n",
    "\n",
    "from pyspark.ml.classification import LogisticRegression\n",
    "from pyspark.ml import Pipeline\n",
    "from sparkdl import DeepImageFeaturizer \n",
    "featurizer = DeepImageFeaturizer(inputCol=\"image\", outputCol=\"features\", modelName=\"InceptionV3\")\n",
    "lr = LogisticRegression(maxIter=20, regParam=0.05, elasticNetParam=0.3, labelCol=\"label\")\n",
    "p = Pipeline(stages=[featurizer, lr])\n",
    "p_model = p.fit(train_df)\n",
    "from pyspark.ml.evaluation import MulticlassClassificationEvaluator\n",
    "\n",
    "tested_df = p_model.transform(test_df)\n",
    "evaluator = MulticlassClassificationEvaluator(metricName=\"accuracy\")\n",
    "print \"Test set accuracy = \" + str(evaluator.evaluate(tested_df.select(\"prediction\", \"label\")))"
   ]
  },
  {
   "cell_type": "code",
   "execution_count": null,
   "metadata": {
    "collapsed": true
   },
   "outputs": [],
   "source": [
    "from pyspark.ml.classification import LogisticRegression\n",
    "from pyspark.ml.evaluation import MulticlassClassificationEvaluator\n",
    "from pyspark.ml import Pipeline\n",
    "from sparkdl import DeepImageFeaturizer\n",
    "\n",
    "featurizer = DeepImageFeaturizer(inputCol=\"image\", outputCol=\"features\", modelName=\"InceptionV3\")\n",
    "lr = LogisticRegression(maxIter=20, regParam=0.05, elasticNetParam=0.3, labelCol=\"label\")\n",
    "p = Pipeline(stages=[featurizer, lr])\n",
    "\n",
    "model = p.fit(train_images_df)    # train_images_df is a dataset of images (SpImage) and labels\n",
    "\n",
    "# Inspect training error\n",
    "df = model.transform(train_images_df.limit(10)).select(\"image\", \"probability\",  \"uri\", \"label\")\n",
    "predictionAndLabels = df.select(\"prediction\", \"label\")\n",
    "evaluator = MulticlassClassificationEvaluator(metricName=\"accuracy\")\n",
    "print \"Training set accuracy = \" + str(evaluator.evaluate(predictionAndLabels))"
   ]
  },
  {
   "cell_type": "code",
   "execution_count": 41,
   "metadata": {},
   "outputs": [
    {
     "data": {
      "text/plain": [
       "Row(filePath=u'hdfs://master1:9002/user/yanbin/data/mnist/0.110.jpg', image=None)"
      ]
     },
     "execution_count": 41,
     "metadata": {},
     "output_type": "execute_result"
    }
   ],
   "source": [
    "# import matplotlib.pyplot as plt\n",
    "# from PIL import Image\n",
    "# mode = image_df.collect()[0][1][0]\n",
    "# size = image_df.collect()[0][1][1:3]\n",
    "# color = image_df.collect()[0][1][4]\n",
    "# im = Image.new(mode,size,color)\n",
    "# # image_df.collect()[0][1][4]\n",
    "# plt.imshow(im)\n",
    "# # len()\n",
    "image_df.collect()[0]"
   ]
  },
  {
   "cell_type": "code",
   "execution_count": 37,
   "metadata": {},
   "outputs": [
    {
     "name": "stdout",
     "output_type": "stream",
     "text": [
      "(28, 28) JPEG L\n"
     ]
    }
   ],
   "source": [
    "from PIL import Image \n",
    "import numpy as np\n",
    "im = Image.open(\"/home/yanbin/data/mnist/0.998.jpg\") \n",
    "print im.size,im.format,im.mode"
   ]
  },
  {
   "cell_type": "code",
   "execution_count": 59,
   "metadata": {},
   "outputs": [],
   "source": []
  }
 ],
 "metadata": {
  "kernelspec": {
   "display_name": "Python 2",
   "language": "python",
   "name": "python2"
  },
  "language_info": {
   "codemirror_mode": {
    "name": "ipython",
    "version": 2
   },
   "file_extension": ".py",
   "mimetype": "text/x-python",
   "name": "python",
   "nbconvert_exporter": "python",
   "pygments_lexer": "ipython2",
   "version": "2.7.12+"
  }
 },
 "nbformat": 4,
 "nbformat_minor": 2
}
