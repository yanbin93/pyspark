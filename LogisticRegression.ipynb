{
 "cells": [
  {
   "cell_type": "markdown",
   "metadata": {},
   "source": [
    "以iris数据集（iris）为例进行分析。iris以鸢尾花的特征作为数据来源，数据集包含150个数据集，分为3类，每类50个数据，每个数据包含4个属性，是在数据挖掘、数据分类中非常常用的测试集、训练集。为了便于理解，我们这里主要用后两个属性（花瓣的长度和宽度）来进行分类。目前 spark.ml 中支持二分类和多分类，我们将分别从“用二项逻辑斯蒂回归来解决二分类问题”、“用多项逻辑斯蒂回归来解决二分类问题”、“用多项逻辑斯蒂回归来解决多分类问题”三个方面进行分析\n",
    "## 二项逻辑斯蒂回归解决 二分类 问题"
   ]
  },
  {
   "cell_type": "code",
   "execution_count": 5,
   "metadata": {},
   "outputs": [
    {
     "name": "stdout",
     "output_type": "stream",
     "text": [
      "5.1,3.5,1.4,0.2,Iris-setosa\r\n",
      "4.9,3.0,1.4,0.2,Iris-setosa\r\n",
      "4.7,3.2,1.3,0.2,Iris-setosa\r\n",
      "4.6,3.1,1.5,0.2,Iris-setosa\r\n",
      "5.0,3.6,1.4,0.2,Iris-setosa\r\n"
     ]
    }
   ],
   "source": [
    "!hadoop fs -cat /user/yanbin/data/iris.txt|head -n5"
   ]
  },
  {
   "cell_type": "code",
   "execution_count": 19,
   "metadata": {
    "collapsed": true
   },
   "outputs": [],
   "source": [
    "from pyspark.sql import SparkSession\n",
    "from pyspark.sql.functions import *\n",
    "from pyspark import SparkConf,SparkContext\n",
    "from pyspark.ml import Pipeline,PipelineModel\n",
    "from pyspark.ml.linalg import Vector,Vectors\n",
    "from pyspark.ml.evaluation import MulticlassClassificationEvaluator\n",
    "from pyspark.ml.classification import LogisticRegression,LogisticRegressionModel\n",
    "from pyspark.ml.classification import BinaryLogisticRegressionSummary\n",
    "from pyspark.ml.feature import StringIndexer,IndexToString,HashingTF,Tokenizer,VectorIndexer\n",
    "from pyspark.sql import Row\n",
    "conf = SparkConf().setAppName('logist Regession')\\\n",
    "                  .setMaster('local')\n",
    "spark = SparkSession.builder\\\n",
    "        .config(conf=conf)\\\n",
    "        .enableHiveSupport()\\\n",
    "        .getOrCreate()\n",
    "sc = spark.sparkContext\n",
    "\n",
    "path = 'data/iris.txt'\n",
    "\n",
    "rawdata = sc.textFile(path).map(lambda line:line.split(\",\"))\\\n",
    "          .map(lambda x:Row(Vectors.dense(float(x[0]),float(x[1]),float(x[2]),float(x[3])),x[4]))\n",
    "rawDf = spark.createDataFrame(rawdata,[\"features\",\"label\"])\n",
    "df=rawDf.filter(\"label!='Iris-setosa'\")\n",
    "\n",
    "labelInder = StringIndexer(inputCol='label',outputCol='indexedLabel').fit(df)\n",
    "featureIndex = VectorIndexer(inputCol='features',outputCol='indexedFeatures').fit(df)\n",
    "(traningDf,testDf) = df.randomSplit(seed=40,weights=[0.7,0.3])\n",
    "lr = LogisticRegression(featuresCol='indexedFeatures',labelCol='indexedLabel',\\\n",
    "                        maxIter=30,regParam=0.3,elasticNetParam=0.8)\n",
    "labelConverter = IndexToString(inputCol='prediction',outputCol='predictedLabel',labels=labelInder.labels)\n",
    "lrPipeline = Pipeline().setStages([labelInder,featureIndex,lr,labelConverter])\n",
    "lrPipelineModel = lrPipeline.fit(traningDf)\n",
    "lrPredictions = lrPipelineModel.transform(testDf)"
   ]
  },
  {
   "cell_type": "code",
   "execution_count": 20,
   "metadata": {},
   "outputs": [
    {
     "name": "stdout",
     "output_type": "stream",
     "text": [
      "(Iris-versicolor, Iris-versicolor --> prob=[4.9,2.4,3.3,1.0], predicted Label=[0.716325732145,0.283674267855]\n",
      "(Iris-versicolor, Iris-versicolor --> prob=[5.1,2.5,3.0,1.1], predicted Label=[0.689500241555,0.310499758445]\n",
      "(Iris-versicolor, Iris-versicolor --> prob=[5.5,2.4,3.8,1.1], predicted Label=[0.685134580757,0.314865419243]\n",
      "(Iris-versicolor, Iris-versicolor --> prob=[5.5,2.6,4.4,1.2], predicted Label=[0.651602888724,0.348397111276]\n",
      "(Iris-versicolor, Iris-versicolor --> prob=[5.6,2.5,3.9,1.1], predicted Label=[0.684586544749,0.315413455251]\n",
      "('Test Error = ', 0.040262725779967035)\n",
      "Coefficients:  [[ 0.          0.          0.02539243  0.13614217]] \n",
      "Intercept:  [-1.01010337977] \n",
      "numClasses:  2 \n",
      "numFeatures:  4\n",
      "[0.692346967089961, 0.6897655700581456, 0.6868996195107941, 0.6811549066615707, 0.6767302758174719, 0.675095414866011, 0.6736463495757629, 0.6729071372292478, 0.6722989791632441, 0.6720654075435648, 0.6717562431190895, 0.67157205869176, 0.6712736878512384, 0.6700741906180208, 0.6623769590391916, 0.6615199842792759, 0.6499443256753996, 0.6446114686368754, 0.6443283065584076, 0.643909069125464, 0.6437383606031927, 0.6437185259022244, 0.6436535490947766, 0.6436414197352601, 0.6435999760134441, 0.6435670035390083, 0.6434375960208707, 0.6433881280673783, 0.6432331816110458, 0.6432024246025583, 0.64308898892209]\n",
      "maxFMeasure:  0.951219512195\n",
      "bestThreshold:  0.449564511262\n",
      "areaUnderROC: 0.991096866097\n"
     ]
    },
    {
     "data": {
      "image/png": "[encoded data removed]",
      "text/plain": [
       "<matplotlib.figure.Figure at 0x7f9fef031610>"
      ]
     },
     "metadata": {},
     "output_type": "display_data"
    }
   ],
   "source": [
    "%matplotlib inline\n",
    "result = lrPredictions.select(\"predictedLabel\", \"label\", \"features\", \"probability\").rdd\\\n",
    ".map(lambda x:(\"(%s, %s --> prob=%s, predicted Label=%s\") %(x.predictedLabel,x.label,x.features,x.probability))\\\n",
    ".take(5)\n",
    "for i in result:\n",
    "    print i\n",
    "evaluator = MulticlassClassificationEvaluator(labelCol='indexedLabel',predictionCol='prediction')\n",
    "lrAccuracy = evaluator.evaluate(lrPredictions)\n",
    "print ('Test Error = ',1-lrAccuracy)\n",
    "lrModel = lrPipelineModel.stages[2]\n",
    "print \"Coefficients: \" , lrModel.coefficientMatrix.toArray(),\"\\n\"\\\n",
    "        \"Intercept: \",lrModel.interceptVector,\"\\n\"\\\n",
    "        \"numClasses: \",lrModel.numClasses,\"\\n\"\\\n",
    "        \"numFeatures: \",lrModel.numFeatures\n",
    "trainingSummary = lrModel.summary\n",
    "objectiveHistory = trainingSummary.objectiveHistory\n",
    "print objectiveHistory\n",
    "# Obtain the receiver-operating characteristic as a dataframe and areaUnderROC.\n",
    "\n",
    "import matplotlib.pyplot as plt\n",
    "pD=trainingSummary.roc.toPandas()\n",
    "# plt.plot(pD.ix[:,0],pD.ix[:,1])\n",
    "pD_FPR=pD.set_index('FPR')\n",
    "pD_FPR.plot()\n",
    "plt.legend(loc='best')\n",
    "FDf=trainingSummary.fMeasureByThreshold.sort('threshold')\n",
    "maxFMeasure =FDf.select(max('F-Measure').alias('maxFMeasure')).head().maxFMeasure\n",
    "print 'maxFMeasure: ',maxFMeasure\n",
    "FDf=FDf.withColumnRenamed('F-Measure','F1')\n",
    "# FDf.select(FDf.F1.cast(FloatType())).show()\n",
    "# FDf.createTempView('F1Table2')\n",
    "bestThreshold = FDf.where((-0.00001<(FDf.F1-maxFMeasure)) & ((FDf.F1-maxFMeasure)<0.0001)).head()['threshold']\n",
    "print 'bestThreshold: ',bestThreshold\n",
    "lr.setThreshold(bestThreshold)\n",
    "# pDf=trainingSummary.precisionByThreshold\n",
    "# rDf=trainingSummary.recallByThreshold\n",
    "# rDf=rDf.withColumnRenamed('threshold','threshold1')\n",
    "# f=rDf.join(pDf,pDf.threshold==rDf.threshold1,'left')\n",
    "# f.select(f.threshold,(2/((1.0/f.recall)+(1.0/f.precision))).alias('F1')).sort('threshold').show()\n",
    "print(\"areaUnderROC: \" + str(trainingSummary.areaUnderROC))\n",
    "\n",
    "\n",
    "\n"
   ]
  },
  {
   "cell_type": "markdown",
   "metadata": {},
   "source": [
    "## 用多项逻辑斯蒂回归解决 二分类 问题"
   ]
  },
  {
   "cell_type": "code",
   "execution_count": 16,
   "metadata": {},
   "outputs": [
    {
     "name": "stdout",
     "output_type": "stream",
     "text": [
      "(Iris-virginica, Iris-virginica --> prob=[4.9,2.5,4.5,1.7], predicted Label=[0.000263882990519,0.488791815578,0.510944301431]\n",
      "(Iris-versicolor, Iris-versicolor --> prob=[5.0,2.0,3.5,1.0], predicted Label=[0.00038333159631,0.709402862587,0.290213805817]\n",
      "(Iris-versicolor, Iris-versicolor --> prob=[5.2,2.7,3.9,1.4], predicted Label=[0.00031853199882,0.58728450905,0.412396958951]\n",
      "(Iris-versicolor, Iris-versicolor --> prob=[5.5,2.6,4.4,1.2], predicted Label=[0.000353891918354,0.649211840228,0.350434267854]\n",
      "(Iris-versicolor, Iris-versicolor --> prob=[5.6,2.5,3.9,1.1], predicted Label=[0.000370557233623,0.678789039518,0.320840403249]\n",
      "Coefficients:  [[  0.00000000e+00   0.00000000e+00   0.00000000e+00   0.00000000e+00]\n",
      " [ -1.67334915e-02   0.00000000e+00  -2.76990261e-04  -6.98083553e-04]\n",
      " [  0.00000000e+00   0.00000000e+00   2.73033386e-04   1.34109179e+00]] \n",
      "Intercept:  [-4.29867961528,3.3099338471,0.988745768181] \n",
      "numClasses:  3 \n",
      "numFeatures:  4\n",
      "('Test Error = ', 0.02948869172778079)\n"
     ]
    }
   ],
   "source": [
    "mlr = LogisticRegression(featuresCol='indexedFeatures',labelCol='indexedLabel',\\\n",
    "                         maxIter=30,regParam=0.3,elasticNetParam=0.8,family='multinomial')\n",
    "mlrPipeline = Pipeline().setStages([labelInder,featureIndex,mlr,labelConverter])\n",
    "mlrPipelineModel = mlrPipeline.fit(traningDf)\n",
    "mlrPredictions = mlrPipelineModel.transform(testDf)\n",
    "result2 =mlrPredictions.select(\"predictedLabel\", \"label\", \"features\", \"probability\").rdd\\\n",
    ".map(lambda x:(\"(%s, %s --> prob=%s, predicted Label=%s\") %(x.predictedLabel,x.label,x.features,x.probability)).take(5)\n",
    "for i in result2:\n",
    "    print i\n",
    "mEvaluator = MulticlassClassificationEvaluator(labelCol='indexedLabel',predictionCol='prediction')\n",
    "mlrAccuracy = evaluator.evaluate(mlrPredictions)\n",
    "mlrModel = mlrPipelineModel.stages[2]\n",
    "print \"Coefficients: \" , mlrModel.coefficientMatrix.toArray(),\"\\n\"\\\n",
    "        \"Intercept: \",mlrModel.interceptVector,\"\\n\"\\\n",
    "        \"numClasses: \",mlrModel.numClasses,\"\\n\"\\\n",
    "        \"numFeatures: \",mlrModel.numFeatures\n",
    "mlrAccuracy = mEvaluator.evaluate(mlrPredictions)\n",
    "print ('Test Error = ',1-mlrAccuracy)\n"
   ]
  },
  {
   "cell_type": "markdown",
   "metadata": {},
   "source": [
    "## 用多项逻辑斯蒂回归解决 多分类 问题"
   ]
  },
  {
   "cell_type": "code",
   "execution_count": 21,
   "metadata": {},
   "outputs": [
    {
     "name": "stdout",
     "output_type": "stream",
     "text": [
      "(Iris-setosa, Iris-setosa --> prob=[4.3,3.0,1.1,0.1], predicted Label=[0.817644066583,0.164184473642,0.0181714597753]\n",
      "(Iris-setosa, Iris-setosa --> prob=[4.4,2.9,1.4,0.2], predicted Label=[0.757512213685,0.214837411808,0.027650374507]\n",
      "(Iris-setosa, Iris-setosa --> prob=[4.4,3.2,1.3,0.2], predicted Label=[0.819984472039,0.159647744478,0.0203677834835]\n",
      "(Iris-setosa, Iris-setosa --> prob=[4.5,2.3,1.3,0.3], predicted Label=[0.607315165928,0.343697706718,0.0489871273544]\n",
      "(Iris-setosa, Iris-setosa --> prob=[4.6,3.1,1.5,0.2], predicted Label=[0.7844636836,0.190673874774,0.0248624416259]\n",
      "Coefficients:  [[ -6.87426251e-02   1.08026940e+00  -4.96472954e-01  -8.06254642e-01]\n",
      " [  0.00000000e+00  -8.09784903e-03   0.00000000e+00   0.00000000e+00]\n",
      " [  1.06988175e-03   0.00000000e+00   1.12024889e-01   1.17991501e+00]] \n",
      "Intercept:  [0.332199605741,1.06952586337,-1.40172546911] \n",
      "numClasses:  3 \n",
      "numFeatures:  4\n",
      "('Test Error = ', 0.04347826086956519)\n"
     ]
    }
   ],
   "source": [
    "tmTrainingDf,tmTestDf = rawDf.randomSplit(seed=40,weights=[0.7,0.3])\n",
    "labelInder = StringIndexer(inputCol='label',outputCol='indexedLabel').fit(rawDf)\n",
    "featureIndex = VectorIndexer(inputCol='features',outputCol='indexedFeatures').fit(rawDf)\n",
    "mlr = LogisticRegression(featuresCol='indexedFeatures',labelCol='indexedLabel',\\\n",
    "                         maxIter=50,regParam=0.1,elasticNetParam=0.8,family='multinomial')\n",
    "labelConverter = IndexToString(inputCol='prediction',outputCol='predictedLabel',labels=labelInder.labels)\n",
    "threeMlrPipeline = Pipeline().setStages([labelInder,featureIndex,mlr,labelConverter])\n",
    "threeMlrPipelineModel = threeMlrPipeline.fit(tmTrainingDf)\n",
    "threeMlrPredictions = threeMlrPipelineModel.transform(tmTestDf)\n",
    "result3 = threeMlrPredictions.select(\"predictedLabel\", \"label\", \"features\", \"probability\").rdd\\\n",
    ".map(lambda x:(\"(%s, %s --> prob=%s, predicted Label=%s\") %(x.predictedLabel,x.label,x.features,x.probability)).take(5)\n",
    "for i in result3:\n",
    "    print i\n",
    "tmEvaluator = MulticlassClassificationEvaluator(labelCol='indexedLabel',predictionCol='prediction')\n",
    "tmlrAccuracy = tmEvaluator.evaluate(threeMlrPredictions)\n",
    "mlrModel = threeMlrPipelineModel.stages[2]\n",
    "print \"Coefficients: \" , mlrModel.coefficientMatrix.toArray(),\"\\n\"\\\n",
    "        \"Intercept: \",mlrModel.interceptVector,\"\\n\"\\\n",
    "        \"numClasses: \",mlrModel.numClasses,\"\\n\"\\\n",
    "        \"numFeatures: \",mlrModel.numFeatures\n",
    "tmlrAccuracy = tmEvaluator.evaluate(threeMlrPredictions)\n",
    "print ('Test Error = ',1-tmlrAccuracy)\n"
   ]
  },
  {
   "cell_type": "code",
   "execution_count": null,
   "metadata": {
    "collapsed": true
   },
   "outputs": [],
   "source": []
  }
 ],
 "metadata": {
  "kernelspec": {
   "display_name": "Python 2",
   "language": "python",
   "name": "python2"
  },
  "language_info": {
   "codemirror_mode": {
    "name": "ipython",
    "version": 2
   },
   "file_extension": ".py",
   "mimetype": "text/x-python",
   "name": "python",
   "nbconvert_exporter": "python",
   "pygments_lexer": "ipython2",
   "version": "2.7.12+"
  }
 },
 "nbformat": 4,
 "nbformat_minor": 2
}
