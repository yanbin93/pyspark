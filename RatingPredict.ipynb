{
 "cells": [
  {
   "cell_type": "markdown",
   "metadata": {},
   "source": [
    "# 电影用户评分数据挖掘\n",
    "MovieLens 100k数据集包含表示多个用户对多部电影的10万次评级数据;  \n",
    "## 数据结构展示\n",
    "**数据展示**\n",
    "* *u.user*\n",
    "> user.id、age、gender、occupation、ZIP code\n",
    "* *u.item*\n",
    "> movie.id、title、release date、IMDB link、电影分类相关属性\n",
    "* *u.data*\n",
    "> user.id、movie.id、rating"
   ]
  },
  {
   "cell_type": "code",
   "execution_count": 1,
   "metadata": {},
   "outputs": [
    {
     "name": "stdout",
     "output_type": "stream",
     "text": [
      "1|24|M|technician|85711\n",
      "2|53|F|other|94043\n",
      "3|23|M|writer|32067\n",
      "4|24|M|technician|43537\n",
      "5|33|F|other|15213\n",
      "------------------------------\n",
      "------------------------------\n",
      "1|Toy Story (1995)|01-Jan-1995||http://us.imdb.com/M/title-exact?Toy%20Story%20(1995)|0|0|0|1|1|1|0|0|0|0|0|0|0|0|0|0|0|0|0\n",
      "2|GoldenEye (1995)|01-Jan-1995||http://us.imdb.com/M/title-exact?GoldenEye%20(1995)|0|1|1|0|0|0|0|0|0|0|0|0|0|0|0|0|1|0|0\n",
      "3|Four Rooms (1995)|01-Jan-1995||http://us.imdb.com/M/title-exact?Four%20Rooms%20(1995)|0|0|0|0|0|0|0|0|0|0|0|0|0|0|0|0|1|0|0\n",
      "4|Get Shorty (1995)|01-Jan-1995||http://us.imdb.com/M/title-exact?Get%20Shorty%20(1995)|0|1|0|0|0|1|0|0|1|0|0|0|0|0|0|0|0|0|0\n",
      "5|Copycat (1995)|01-Jan-1995||http://us.imdb.com/M/title-exact?Copycat%20(1995)|0|0|0|0|0|0|1|0|1|0|0|0|0|0|0|0|1|0|0\n",
      "------------------------------\n",
      "------------------------------\n",
      "196\t242\t3\t881250949\n",
      "186\t302\t3\t891717742\n",
      "22\t377\t1\t878887116\n",
      "244\t51\t2\t880606923\n",
      "166\t346\t1\t886397596\n"
     ]
    }
   ],
   "source": [
    "%%bash\n",
    "head -5 ~/data/ml-100k/u.user\n",
    "echo \"------------------------------\"\n",
    "echo \"------------------------------\"\n",
    "head -5 ~/data/ml-100k/u.item\n",
    "echo \"------------------------------\"\n",
    "echo \"------------------------------\"\n",
    "head -5 ~/data/ml-100k/u.data"
   ]
  },
  {
   "cell_type": "markdown",
   "metadata": {},
   "source": [
    "##  用户数据"
   ]
  },
  {
   "cell_type": "code",
   "execution_count": 2,
   "metadata": {},
   "outputs": [
    {
     "name": "stdout",
     "output_type": "stream",
     "text": [
      "Found 23 items\n",
      "-rw-r--r--   1 yanbin supergroup      6.6 K 2017-05-18 16:51 /user/yanbin/data/ml-100k/README\n",
      "-rw-r--r--   1 yanbin supergroup        716 2017-05-18 16:51 /user/yanbin/data/ml-100k/allbut.pl\n",
      "-rw-r--r--   1 yanbin supergroup        643 2017-05-18 16:51 /user/yanbin/data/ml-100k/mku.sh\n",
      "-rw-r--r--   1 yanbin supergroup      1.9 M 2017-05-18 16:51 /user/yanbin/data/ml-100k/u.data\n",
      "-rw-r--r--   1 yanbin supergroup        202 2017-05-18 16:51 /user/yanbin/data/ml-100k/u.genre\n",
      "-rw-r--r--   1 yanbin supergroup         36 2017-05-18 16:51 /user/yanbin/data/ml-100k/u.info\n",
      "-rw-r--r--   1 yanbin supergroup    230.8 K 2017-05-18 16:51 /user/yanbin/data/ml-100k/u.item\n",
      "-rw-r--r--   1 yanbin supergroup        193 2017-05-18 16:51 /user/yanbin/data/ml-100k/u.occupation\n",
      "-rw-r--r--   1 yanbin supergroup     22.1 K 2017-05-18 16:51 /user/yanbin/data/ml-100k/u.user\n",
      "-rw-r--r--   1 yanbin supergroup      1.5 M 2017-05-18 16:51 /user/yanbin/data/ml-100k/u1.base\n",
      "-rw-r--r--   1 yanbin supergroup    383.4 K 2017-05-18 16:51 /user/yanbin/data/ml-100k/u1.test\n",
      "-rw-r--r--   1 yanbin supergroup      1.5 M 2017-05-18 16:51 /user/yanbin/data/ml-100k/u2.base\n",
      "-rw-r--r--   1 yanbin supergroup    386.0 K 2017-05-18 16:51 /user/yanbin/data/ml-100k/u2.test\n",
      "-rw-r--r--   1 yanbin supergroup      1.5 M 2017-05-18 16:51 /user/yanbin/data/ml-100k/u3.base\n",
      "-rw-r--r--   1 yanbin supergroup    387.3 K 2017-05-18 16:51 /user/yanbin/data/ml-100k/u3.test\n",
      "-rw-r--r--   1 yanbin supergroup      1.5 M 2017-05-18 16:51 /user/yanbin/data/ml-100k/u4.base\n",
      "-rw-r--r--   1 yanbin supergroup    388.0 K 2017-05-18 16:51 /user/yanbin/data/ml-100k/u4.test\n",
      "-rw-r--r--   1 yanbin supergroup      1.5 M 2017-05-18 16:51 /user/yanbin/data/ml-100k/u5.base\n",
      "-rw-r--r--   1 yanbin supergroup    388.1 K 2017-05-18 16:51 /user/yanbin/data/ml-100k/u5.test\n",
      "-rw-r--r--   1 yanbin supergroup      1.7 M 2017-05-18 16:51 /user/yanbin/data/ml-100k/ua.base\n",
      "-rw-r--r--   1 yanbin supergroup    182.3 K 2017-05-18 16:51 /user/yanbin/data/ml-100k/ua.test\n",
      "-rw-r--r--   1 yanbin supergroup      1.7 M 2017-05-18 16:51 /user/yanbin/data/ml-100k/ub.base\n",
      "-rw-r--r--   1 yanbin supergroup    182.3 K 2017-05-18 16:51 /user/yanbin/data/ml-100k/ub.test\n"
     ]
    }
   ],
   "source": [
    "%%bash\n",
    "hadoop fs -ls -h /user/yanbin/data/ml-100k"
   ]
  },
  {
   "cell_type": "code",
   "execution_count": 3,
   "metadata": {
    "collapsed": true
   },
   "outputs": [],
   "source": [
    "from pyspark import SparkContext,SparkConf\n",
    "from operator import add\n",
    "from pyspark.sql import SparkSession\n",
    "from pyspark.sql import HiveContext\n",
    "from pandas import *\n",
    "import matplotlib.pyplot as plt\n",
    "#创建SparkSession无法连接Hive\n",
    "# spark = SparkSession \\\n",
    "#     .builder \\\n",
    "#     .appName(\"pyspark\") \\\n",
    "#     .config(\"spark.some.config.option\", \"some-value\") \\\n",
    "#     .getOrCreate()\n",
    "# sc=spark.sparkContext\n",
    "sc=SparkContext()\n",
    "spark=HiveContext(sc)"
   ]
  },
  {
   "cell_type": "code",
   "execution_count": 4,
   "metadata": {},
   "outputs": [
    {
     "data": {
      "text/plain": [
       "u'1|24|M|technician|85711'"
      ]
     },
     "execution_count": 4,
     "metadata": {},
     "output_type": "execute_result"
    }
   ],
   "source": [
    "userPath=\"data/ml-100k/u.user\"\n",
    "rawdata=sc.textFile(userPath)\n",
    "rawdata.first()"
   ]
  },
  {
   "cell_type": "code",
   "execution_count": 5,
   "metadata": {},
   "outputs": [
    {
     "name": "stdout",
     "output_type": "stream",
     "text": [
      "+------------+\n",
      "|databaseName|\n",
      "+------------+\n",
      "|     default|\n",
      "|      yanbin|\n",
      "+------------+\n",
      "\n"
     ]
    }
   ],
   "source": [
    "spark.sql(\"show databases\").show()"
   ]
  },
  {
   "cell_type": "code",
   "execution_count": 6,
   "metadata": {},
   "outputs": [
    {
     "name": "stdout",
     "output_type": "stream",
     "text": [
      "(1, 24, u'M', u'technician', '85711') 943\n"
     ]
    }
   ],
   "source": [
    "import re\n",
    "pattern = re.compile(r\"[^\\d+]\")\n",
    "data=rawdata.map(lambda x:x.split(\"|\"))\n",
    "def f(x):\n",
    "    print x\n",
    "data.filter(lambda x:pattern.match(x[4]))\n",
    "data=data.map(lambda x:(int(x[0]),int(x[1]),x[2],x[3],str(x[4])))\n",
    "print data.first(),data.count()"
   ]
  },
  {
   "cell_type": "code",
   "execution_count": 7,
   "metadata": {},
   "outputs": [
    {
     "name": "stdout",
     "output_type": "stream",
     "text": [
      "+---+---+------+----------+--------+\n",
      "| id|age|gender|occupation|zip_code|\n",
      "+---+---+------+----------+--------+\n",
      "|  1| 24|     M|technician|   85711|\n",
      "|  2| 53|     F|     other|   94043|\n",
      "|  3| 23|     M|    writer|   32067|\n",
      "|  4| 24|     M|technician|   43537|\n",
      "|  5| 33|     F|     other|   15213|\n",
      "+---+---+------+----------+--------+\n",
      "\n"
     ]
    },
    {
     "data": {
      "text/plain": [
       "[('id', 'bigint'),\n",
       " ('age', 'bigint'),\n",
       " ('gender', 'string'),\n",
       " ('occupation', 'string'),\n",
       " ('zip_code', 'string')]"
      ]
     },
     "execution_count": 7,
     "metadata": {},
     "output_type": "execute_result"
    }
   ],
   "source": [
    "from pyspark.sql import Row\n",
    "User = Row('id','age','gender','occupation','zip_code')\n",
    "user = data.map(lambda r:User(*r))\n",
    "user.first()\n",
    "userDf = spark.createDataFrame(user)\n",
    "userDf.limit(5).show()\n",
    "userDf.dtypes"
   ]
  },
  {
   "cell_type": "code",
   "execution_count": 8,
   "metadata": {},
   "outputs": [
    {
     "name": "stdout",
     "output_type": "stream",
     "text": [
      "+-------+-----------------+\n",
      "|summary|              age|\n",
      "+-------+-----------------+\n",
      "|  count|              943|\n",
      "|   mean|34.05196182396607|\n",
      "| stddev|12.19273973305903|\n",
      "|    min|                7|\n",
      "|    max|               73|\n",
      "+-------+-----------------+\n",
      "\n",
      "root\n",
      " |-- id: long (nullable = true)\n",
      " |-- age: long (nullable = true)\n",
      " |-- gender: string (nullable = true)\n",
      " |-- occupation: string (nullable = true)\n",
      " |-- zip_code: string (nullable = true)\n",
      "\n"
     ]
    }
   ],
   "source": [
    "from pyspark.sql.functions import minute,min\n",
    "userDf.describe(['age']).show()\n",
    "userDf.printSchema()\n",
    "# userDf.select(userDf.id.cast(\"int\")).first()\n",
    "# userDf.select(min('age').alias('min')).first()"
   ]
  },
  {
   "cell_type": "code",
   "execution_count": 9,
   "metadata": {},
   "outputs": [
    {
     "data": {
      "text/plain": [
       "0"
      ]
     },
     "execution_count": 9,
     "metadata": {},
     "output_type": "execute_result"
    }
   ],
   "source": [
    "userDf.select(userDf.age.isNull().alias(\"ageIsNull\"),userDf.id.isNull().alias(\"idIsNull\")).where(\"ageIsNull=true\").count()"
   ]
  },
  {
   "cell_type": "code",
   "execution_count": 10,
   "metadata": {
    "collapsed": true
   },
   "outputs": [],
   "source": [
    "from pyspark.sql.types import *\n",
    "struct = StructType()\n",
    "sf1=StructField(\"id\",IntegerType(),True)\n",
    "sf2=StructField(\"age\",StringType(),True)\n",
    "sf3=StructField(\"gender\",StringType(),True)\n",
    "sf4=StructField(\"occupation\",StringType(),True)\n",
    "sf5=StructField(\"zip_code\",StringType(),True)\n",
    "struct.add(sf1).add(sf2).add(sf3).add(sf4).add(sf5)\n",
    "# struct\n",
    "#RDD转换成dataFrame时，类型不对应会报错。但转成StringType不会;\n",
    "nf=spark.createDataFrame(data,struct)\n",
    "#以Seq类型定义schema名称，类型依RDD相应转换\n",
    "#spark.createDataFrame(data,(\"id\",\"age\",\"gender\",\"occupation\",\"zip_code\")).dtypes"
   ]
  },
  {
   "cell_type": "code",
   "execution_count": 11,
   "metadata": {},
   "outputs": [
    {
     "name": "stdout",
     "output_type": "stream",
     "text": [
      "+---+---+------+-------------+--------+\n",
      "| id|age|gender|   occupation|zip_code|\n",
      "+---+---+------+-------------+--------+\n",
      "| 30|  7|     M|      student|   55436|\n",
      "|471| 10|     M|      student|   77459|\n",
      "|289| 11|     M|         none|   94619|\n",
      "|674| 13|     F|      student|   55337|\n",
      "|880| 13|     M|      student|   83702|\n",
      "|609| 13|     F|      student|   55106|\n",
      "|142| 13|     M|        other|   48118|\n",
      "|628| 13|     M|         none|   94306|\n",
      "|813| 14|     F|      student|   02136|\n",
      "|206| 14|     F|      student|   53115|\n",
      "|887| 14|     F|      student|   27249|\n",
      "|618| 15|     F|      student|   44212|\n",
      "|281| 15|     F|      student|   06059|\n",
      "|179| 15|     M|entertainment|   20755|\n",
      "|461| 15|     M|      student|   98102|\n",
      "|101| 15|     M|      student|   05146|\n",
      "|849| 15|     F|      student|   25652|\n",
      "|434| 16|     F|      student|   49705|\n",
      "|550| 16|     F|      student|   95453|\n",
      "|451| 16|     M|      student|   48446|\n",
      "+---+---+------+-------------+--------+\n",
      "only showing top 20 rows\n",
      "\n"
     ]
    }
   ],
   "source": [
    "userDf.sort(userDf.age.desc())\n",
    "from pyspark.sql.functions import *\n",
    "userDf.sort(asc(\"age\")).show()"
   ]
  },
  {
   "cell_type": "code",
   "execution_count": 12,
   "metadata": {},
   "outputs": [
    {
     "name": "stdout",
     "output_type": "stream",
     "text": [
      "+----+-------+-----------+\n",
      "|ages|genders|occupations|\n",
      "+----+-------+-----------+\n",
      "|  61|      2|         21|\n",
      "+----+-------+-----------+\n",
      "\n"
     ]
    }
   ],
   "source": [
    "%matplotlib inline\n",
    "import matplotlib.pyplot as plt\n",
    "nf=nf.select(nf.id,nf.age.cast(IntegerType()),nf.gender,nf.occupation,nf.zip_code)\n",
    "nf.registerTempTable(\"user\")\n",
    "sqlString=\"with t1 as (select count(distinct(age)) as ages from user),\\\n",
    "           t2 as (select count(distinct(gender)) as genders from user), \\\n",
    "           t3 as (select count(distinct(occupation)) as occupations from user) \\\n",
    "            select * from t1 cross join t2 cross join t3\"\n",
    "spark.sql(sqlString).show()"
   ]
  },
  {
   "cell_type": "markdown",
   "metadata": {},
   "source": [
    "## 按年龄区间计算用户分布"
   ]
  },
  {
   "cell_type": "code",
   "execution_count": 13,
   "metadata": {},
   "outputs": [
    {
     "name": "stdout",
     "output_type": "stream",
     "text": [
      "+---+------+------+-------------+--------+\n",
      "| id|newage|gender|   occupation|zip_code|\n",
      "+---+------+------+-------------+--------+\n",
      "|  1|     1|     M|   technician|   85711|\n",
      "|  2|     4|     F|        other|   94043|\n",
      "|  3|     1|     M|       writer|   32067|\n",
      "|  4|     1|     M|   technician|   43537|\n",
      "|  5|     2|     F|        other|   15213|\n",
      "|  6|     3|     M|    executive|   98101|\n",
      "|  7|     5|     M|administrator|   91344|\n",
      "|  8|     3|     M|administrator|   05201|\n",
      "|  9|     2|     M|      student|   01002|\n",
      "| 10|     4|     M|       lawyer|   90703|\n",
      "| 11|     3|     F|        other|   30329|\n",
      "| 12|     2|     F|        other|   06405|\n",
      "| 13|     4|     M|     educator|   29206|\n",
      "| 14|     4|     M|    scientist|   55106|\n",
      "| 15|     4|     F|     educator|   97301|\n",
      "| 16|     1|     M|entertainment|   10309|\n",
      "| 17|     2|     M|   programmer|   06355|\n",
      "| 18|     3|     F|        other|   37212|\n",
      "| 19|     3|     M|    librarian|   02138|\n",
      "| 20|     3|     F|    homemaker|   95660|\n",
      "+---+------+------+-------------+--------+\n",
      "only showing top 20 rows\n",
      "\n",
      "+------+-----+\n",
      "|newage|count|\n",
      "+------+-----+\n",
      "|     0|   11|\n",
      "|     1|  223|\n",
      "|     2|  310|\n",
      "|     3|  194|\n",
      "|     4|  142|\n",
      "|     5|   51|\n",
      "|     6|   12|\n",
      "+------+-----+\n",
      "\n"
     ]
    },
    {
     "data": {
      "text/plain": [
       "<matplotlib.axes._subplots.AxesSubplot at 0x7f399a4cb410>"
      ]
     },
     "execution_count": 13,
     "metadata": {},
     "output_type": "execute_result"
    },
    {
     "data": {
      "image/png": "[encoded data removed]",
      "text/plain": [
       "<matplotlib.figure.Figure at 0x7f399a530ad0>"
      ]
     },
     "metadata": {},
     "output_type": "display_data"
    }
   ],
   "source": [
    "condition=\"case \\\n",
    "when  5<=age and age<15 then 0 \\\n",
    "when 10<=age and age<25 then 1 \\\n",
    "when age>=25 and age<35 then 2 \\\n",
    "when age>=35 and age<45 then 3 \\\n",
    "when age>=45 and age<55 then 4 \\\n",
    "when age>=55 and age<65 then 5 \\\n",
    "when age>=65 and age<75 then 6 \\\n",
    "when age>=75 and age<85 then 7 \\\n",
    "end \"\n",
    "gdf=spark.sql(\"select id,\"+condition+\" as newage,gender,occupation,zip_code from user\")\n",
    "gdf.show()\n",
    "ageDf=gdf.groupBy(gdf.newage).count().sort(asc(\"newage\"))\n",
    "# cnt=ageDf.groupBy().sum('count').collect()[0][0]\n",
    "# ageDf=ageDf.join(ageDf.selectExpr((\"count/\"+str(cnt)+\" as frec\")),\"frec\",'outer')\n",
    "ageDf.show()\n",
    "ageDf=ageDf.toPandas()\n",
    "ageDf.index=[\"5-15\",\"15-25\",\"25-35\",\"35-45\",\"45-55\",\"55-65\",\"65-75\"]\n",
    "ageDf=ageDf.loc[:,'count']\n",
    "ageDf.plot(kind='bar',color='lightblue')\n",
    "# plt.hist(list(ageDf['count']),bins=20,color='lightblue',normed=True)\n",
    "# nf.select(nf.age).toPandas().hist(bins=10,color='lightblue',normed=True)\n",
    "# fig=plt.gcf()\n",
    "\n",
    "# gdf.groupBy(username.).max(\"id\").show()"
   ]
  },
  {
   "cell_type": "markdown",
   "metadata": {},
   "source": [
    "## 用户职业分布"
   ]
  },
  {
   "cell_type": "code",
   "execution_count": 14,
   "metadata": {
    "collapsed": true
   },
   "outputs": [],
   "source": [
    "gdf.createTempView(\"newUser\")"
   ]
  },
  {
   "cell_type": "code",
   "execution_count": 15,
   "metadata": {},
   "outputs": [
    {
     "data": {
      "image/png": "[encoded data removed]",
      "text/plain": [
       "<matplotlib.figure.Figure at 0x7f399a4e89d0>"
      ]
     },
     "metadata": {},
     "output_type": "display_data"
    }
   ],
   "source": [
    "occDf=spark.sql(\"select occupation ,count(*) as count from newUser group by occupation\").sort(\"occupation\")\n",
    "occDf.head()\n",
    "occDf=occDf.toPandas()\n",
    "occDf.index=list(occDf.ix[:,0])\n",
    "occDf['count'].plot(kind='bar')\n",
    "fig=plt.gcf()\n",
    "fig.set_size_inches(8,5)"
   ]
  },
  {
   "cell_type": "code",
   "execution_count": 16,
   "metadata": {},
   "outputs": [
    {
     "name": "stdout",
     "output_type": "stream",
     "text": [
      "CPU times: user 0 ns, sys: 0 ns, total: 0 ns\n",
      "Wall time: 5.96 µs\n"
     ]
    },
    {
     "data": {
      "text/html": [
       "<div>\n",
       "<table border=\"1\" class=\"dataframe\">\n",
       "  <thead>\n",
       "    <tr style=\"text-align: right;\">\n",
       "      <th></th>\n",
       "      <th>5_15</th>\n",
       "      <th>15_25</th>\n",
       "      <th>25_35</th>\n",
       "      <th>35_45</th>\n",
       "      <th>45_55</th>\n",
       "      <th>55_65</th>\n",
       "      <th>65_75</th>\n",
       "    </tr>\n",
       "  </thead>\n",
       "  <tbody>\n",
       "    <tr>\n",
       "      <th>administrator</th>\n",
       "      <td>0</td>\n",
       "      <td>6</td>\n",
       "      <td>26</td>\n",
       "      <td>20</td>\n",
       "      <td>22</td>\n",
       "      <td>4</td>\n",
       "      <td>1</td>\n",
       "    </tr>\n",
       "    <tr>\n",
       "      <th>artist</th>\n",
       "      <td>0</td>\n",
       "      <td>6</td>\n",
       "      <td>13</td>\n",
       "      <td>6</td>\n",
       "      <td>3</td>\n",
       "      <td>0</td>\n",
       "      <td>0</td>\n",
       "    </tr>\n",
       "    <tr>\n",
       "      <th>doctor</th>\n",
       "      <td>0</td>\n",
       "      <td>0</td>\n",
       "      <td>2</td>\n",
       "      <td>1</td>\n",
       "      <td>3</td>\n",
       "      <td>1</td>\n",
       "      <td>0</td>\n",
       "    </tr>\n",
       "    <tr>\n",
       "      <th>educator</th>\n",
       "      <td>0</td>\n",
       "      <td>1</td>\n",
       "      <td>29</td>\n",
       "      <td>23</td>\n",
       "      <td>29</td>\n",
       "      <td>13</td>\n",
       "      <td>0</td>\n",
       "    </tr>\n",
       "    <tr>\n",
       "      <th>engineer</th>\n",
       "      <td>0</td>\n",
       "      <td>12</td>\n",
       "      <td>20</td>\n",
       "      <td>22</td>\n",
       "      <td>7</td>\n",
       "      <td>5</td>\n",
       "      <td>1</td>\n",
       "    </tr>\n",
       "    <tr>\n",
       "      <th>entertainment</th>\n",
       "      <td>0</td>\n",
       "      <td>9</td>\n",
       "      <td>5</td>\n",
       "      <td>2</td>\n",
       "      <td>2</td>\n",
       "      <td>0</td>\n",
       "      <td>0</td>\n",
       "    </tr>\n",
       "    <tr>\n",
       "      <th>executive</th>\n",
       "      <td>0</td>\n",
       "      <td>1</td>\n",
       "      <td>11</td>\n",
       "      <td>10</td>\n",
       "      <td>8</td>\n",
       "      <td>1</td>\n",
       "      <td>1</td>\n",
       "    </tr>\n",
       "    <tr>\n",
       "      <th>healthcare</th>\n",
       "      <td>0</td>\n",
       "      <td>1</td>\n",
       "      <td>4</td>\n",
       "      <td>3</td>\n",
       "      <td>7</td>\n",
       "      <td>1</td>\n",
       "      <td>0</td>\n",
       "    </tr>\n",
       "    <tr>\n",
       "      <th>homemaker</th>\n",
       "      <td>0</td>\n",
       "      <td>2</td>\n",
       "      <td>2</td>\n",
       "      <td>2</td>\n",
       "      <td>1</td>\n",
       "      <td>0</td>\n",
       "      <td>0</td>\n",
       "    </tr>\n",
       "    <tr>\n",
       "      <th>lawyer</th>\n",
       "      <td>0</td>\n",
       "      <td>1</td>\n",
       "      <td>5</td>\n",
       "      <td>2</td>\n",
       "      <td>4</td>\n",
       "      <td>0</td>\n",
       "      <td>0</td>\n",
       "    </tr>\n",
       "    <tr>\n",
       "      <th>librarian</th>\n",
       "      <td>0</td>\n",
       "      <td>1</td>\n",
       "      <td>19</td>\n",
       "      <td>13</td>\n",
       "      <td>13</td>\n",
       "      <td>4</td>\n",
       "      <td>1</td>\n",
       "    </tr>\n",
       "    <tr>\n",
       "      <th>marketing</th>\n",
       "      <td>0</td>\n",
       "      <td>2</td>\n",
       "      <td>8</td>\n",
       "      <td>11</td>\n",
       "      <td>3</td>\n",
       "      <td>2</td>\n",
       "      <td>0</td>\n",
       "    </tr>\n",
       "    <tr>\n",
       "      <th>none</th>\n",
       "      <td>2</td>\n",
       "      <td>2</td>\n",
       "      <td>3</td>\n",
       "      <td>1</td>\n",
       "      <td>0</td>\n",
       "      <td>1</td>\n",
       "      <td>0</td>\n",
       "    </tr>\n",
       "    <tr>\n",
       "      <th>other</th>\n",
       "      <td>1</td>\n",
       "      <td>16</td>\n",
       "      <td>43</td>\n",
       "      <td>24</td>\n",
       "      <td>15</td>\n",
       "      <td>6</td>\n",
       "      <td>0</td>\n",
       "    </tr>\n",
       "    <tr>\n",
       "      <th>programmer</th>\n",
       "      <td>0</td>\n",
       "      <td>9</td>\n",
       "      <td>33</td>\n",
       "      <td>15</td>\n",
       "      <td>7</td>\n",
       "      <td>2</td>\n",
       "      <td>0</td>\n",
       "    </tr>\n",
       "    <tr>\n",
       "      <th>retired</th>\n",
       "      <td>0</td>\n",
       "      <td>0</td>\n",
       "      <td>0</td>\n",
       "      <td>0</td>\n",
       "      <td>1</td>\n",
       "      <td>6</td>\n",
       "      <td>7</td>\n",
       "    </tr>\n",
       "    <tr>\n",
       "      <th>salesman</th>\n",
       "      <td>0</td>\n",
       "      <td>3</td>\n",
       "      <td>3</td>\n",
       "      <td>3</td>\n",
       "      <td>1</td>\n",
       "      <td>1</td>\n",
       "      <td>1</td>\n",
       "    </tr>\n",
       "    <tr>\n",
       "      <th>scientist</th>\n",
       "      <td>0</td>\n",
       "      <td>2</td>\n",
       "      <td>12</td>\n",
       "      <td>14</td>\n",
       "      <td>2</td>\n",
       "      <td>1</td>\n",
       "      <td>0</td>\n",
       "    </tr>\n",
       "    <tr>\n",
       "      <th>student</th>\n",
       "      <td>8</td>\n",
       "      <td>134</td>\n",
       "      <td>48</td>\n",
       "      <td>6</td>\n",
       "      <td>0</td>\n",
       "      <td>0</td>\n",
       "      <td>0</td>\n",
       "    </tr>\n",
       "    <tr>\n",
       "      <th>technician</th>\n",
       "      <td>0</td>\n",
       "      <td>8</td>\n",
       "      <td>9</td>\n",
       "      <td>5</td>\n",
       "      <td>4</td>\n",
       "      <td>1</td>\n",
       "      <td>0</td>\n",
       "    </tr>\n",
       "    <tr>\n",
       "      <th>writer</th>\n",
       "      <td>0</td>\n",
       "      <td>7</td>\n",
       "      <td>15</td>\n",
       "      <td>11</td>\n",
       "      <td>10</td>\n",
       "      <td>2</td>\n",
       "      <td>0</td>\n",
       "    </tr>\n",
       "  </tbody>\n",
       "</table>\n",
       "</div>"
      ],
      "text/plain": [
       "               5_15  15_25  25_35  35_45  45_55  55_65  65_75\n",
       "administrator     0      6     26     20     22      4      1\n",
       "artist            0      6     13      6      3      0      0\n",
       "doctor            0      0      2      1      3      1      0\n",
       "educator          0      1     29     23     29     13      0\n",
       "engineer          0     12     20     22      7      5      1\n",
       "entertainment     0      9      5      2      2      0      0\n",
       "executive         0      1     11     10      8      1      1\n",
       "healthcare        0      1      4      3      7      1      0\n",
       "homemaker         0      2      2      2      1      0      0\n",
       "lawyer            0      1      5      2      4      0      0\n",
       "librarian         0      1     19     13     13      4      1\n",
       "marketing         0      2      8     11      3      2      0\n",
       "none              2      2      3      1      0      1      0\n",
       "other             1     16     43     24     15      6      0\n",
       "programmer        0      9     33     15      7      2      0\n",
       "retired           0      0      0      0      1      6      7\n",
       "salesman          0      3      3      3      1      1      1\n",
       "scientist         0      2     12     14      2      1      0\n",
       "student           8    134     48      6      0      0      0\n",
       "technician        0      8      9      5      4      1      0\n",
       "writer            0      7     15     11     10      2      0"
      ]
     },
     "execution_count": 16,
     "metadata": {},
     "output_type": "execute_result"
    }
   ],
   "source": [
    "%time\n",
    "#gdf.groupBy(\"newage\",\"occupation\").count().sort('newage').show()\n",
    "import numpy as np\n",
    "from pandas import DataFrame\n",
    "# df=DataFrame(np.zeros(21,7),index=list(occDf['occupation']),columns=np.arange(8))\n",
    "# spark.sql(\"show databases\").show()\n",
    "# spark.sql(\"create table test1 as (select newage,occupation ,count(*) as cnt from newUser group by occupation,newage)\").show()\n",
    "sqlString=\"with t as \\\n",
    "(select newage,occupation ,count(*) as count from newUser group by occupation,newage) \\\n",
    "select occupation, \\\n",
    "max(case newage when 0 then cnt else 0 end ) as 5_15,\\\n",
    "max(case newage when 1 then cnt else 0 end) as 15_25,\\\n",
    "max(case newage when 2 then cnt else 0 end) as 25_35,\\\n",
    "max(case newage when 3 then cnt else 0 end) as 35_45,\\\n",
    "max(case newage when 4 then cnt else 0 end) as 45_55,\\\n",
    "max(case newage when 5 then cnt else 0 end) as 55_65,\\\n",
    "max(case newage when 6 then cnt else 0 end) as 65_75 \\\n",
    "from test1 group by occupation\\\n",
    "\"\n",
    "uAndC=spark.sql(sqlString).sort(asc('occupation'))\n",
    "uAndC=uAndC.toPandas()\n",
    "uAndC.index=list(uAndC.ix[:,0])\n",
    "uAndC.ix[:,1:]"
   ]
  },
  {
   "cell_type": "code",
   "execution_count": 17,
   "metadata": {},
   "outputs": [
    {
     "data": {
      "image/png": "[encoded data removed]",
      "text/plain": [
       "<matplotlib.figure.Figure at 0x7f399a30ee50>"
      ]
     },
     "metadata": {},
     "output_type": "display_data"
    }
   ],
   "source": [
    "uAndC.ix[:,2:-1].plot(kind='bar',title=u'age&occupation')\n",
    "fig=plt.gcf()\n",
    "fig.set_size_inches(20,10)"
   ]
  },
  {
   "cell_type": "code",
   "execution_count": null,
   "metadata": {
    "collapsed": true
   },
   "outputs": [],
   "source": []
  },
  {
   "cell_type": "code",
   "execution_count": null,
   "metadata": {
    "collapsed": true
   },
   "outputs": [],
   "source": []
  },
  {
   "cell_type": "markdown",
   "metadata": {},
   "source": [
    "## 电影数据\n",
    "** 定义电影年龄为相对于1998年\n",
    "*  清洗数据\n",
    ">  定义convert_year函数，将缺失年份设为1990,为后续处理做准备"
   ]
  },
  {
   "cell_type": "code",
   "execution_count": 19,
   "metadata": {},
   "outputs": [
    {
     "name": "stdout",
     "output_type": "stream",
     "text": [
      "1|Toy Story (1995)|01-Jan-1995||http://us.imdb.com/M/title-exact?Toy%20Story%20(1995)|0|0|0|1|1|1|0|0|0|0|0|0|0|0|0|0|0|0|0\n",
      "Movies: 1682\n"
     ]
    }
   ],
   "source": [
    "moviePath=\"data/ml-100k/u.item\"\n",
    "movie_data = sc.textFile(moviePath)\n",
    "print movie_data.first()\n",
    "print \"Movies:\",movie_data.count()"
   ]
  },
  {
   "cell_type": "code",
   "execution_count": 20,
   "metadata": {
    "collapsed": true
   },
   "outputs": [],
   "source": [
    "def convert_year(x):\n",
    "        try:\n",
    "            return int(x[-4:])\n",
    "        except:\n",
    "            return 1900"
   ]
  },
  {
   "cell_type": "code",
   "execution_count": 21,
   "metadata": {
    "scrolled": true
   },
   "outputs": [
    {
     "name": "stdout",
     "output_type": "stream",
     "text": [
      "267 unknown||||1|0|0|0|0|0|0|0|0|0|0|0|0|0|0|0|0|0|0\n",
      "1373 Good Morning (1971)|4-Feb-1971||http://us.imdb.com/M/title-exact?Good%20Morning%20(1971)|1|0|0|0|0|0|0|0|0|0|0|0|0|0|0|0|0|0|0\n",
      "========================\n",
      "267 unknown||||1|0|0|0|0|0|0|0|0|0|0|0|0|0|0|0|0|0|0\n",
      "1682\n"
     ]
    }
   ],
   "source": [
    "#moive_fields以(id,电影信息)RDD保存信息\n",
    "moive_fields = movie_data.map(lambda lines:lines.split(\"|\")).map(lambda x:(x[0],x[1:]))\n",
    "# moive_fields?\n",
    "# print moive_fields.first()\n",
    "years=moive_fields.map(lambda fields:(fields[0],fields[1][1]))\n",
    "# print years.first()\n",
    "pattern = re.compile(r\"\\d{2}-\\w{3}-\\d{4}\")\n",
    "# years=years.filter(lambda x:not pattern.match(x))\n",
    "errors=moive_fields.filter(lambda x:not pattern.match(x[1][1])).map(lambda x:x[0]).collect()\n",
    "for error in errors:\n",
    "    print error,\"|\".join(moive_fields.lookup(error)[0])\n",
    "    pattern = re.compile(r\"\\d{1,2}-\\w{3}-\\d{4}\")\n",
    "# years=years.filter(lambda x:not pattern.match(x))\n",
    "print \"========================\"\n",
    "errors=moive_fields.filter(lambda x:not pattern.match(x[1][1])).map(lambda x:x[0]).collect()\n",
    "for error in errors:\n",
    "    print error,\"|\".join(moive_fields.lookup(error)[0])\n",
    "years=years.map(lambda x:(x[0],convert_year(x[1])))\n",
    "print years.count()"
   ]
  },
  {
   "cell_type": "code",
   "execution_count": 22,
   "metadata": {},
   "outputs": [
    {
     "name": "stdout",
     "output_type": "stream",
     "text": [
      "1\n",
      "267 unknown||||1|0|0|0|0|0|0|0|0|0|0|0|0|0|0|0|0|0|0\n",
      "1681\n"
     ]
    },
    {
     "data": {
      "text/plain": [
       "<matplotlib.axes._subplots.AxesSubplot at 0x7f3999d6dd50>"
      ]
     },
     "execution_count": 22,
     "metadata": {},
     "output_type": "execute_result"
    },
    {
     "data": {
      "image/png": "[encoded data removed]",
      "text/plain": [
       "<matplotlib.figure.Figure at 0x7f3999d59d10>"
      ]
     },
     "metadata": {},
     "output_type": "display_data"
    }
   ],
   "source": [
    "from pandas import Series\n",
    "years_error=years.filter(lambda x: x[1]==1900).collect()\n",
    "print len(years_error)\n",
    "for year in years_error:\n",
    "    print year[0],\"|\".join(moive_fields.lookup(year[0])[0])\n",
    "years_filtered = years.filter(lambda x:x[1]!=1900).map(lambda x:x[1])\n",
    "print years_filtered.count()\n",
    "movie_ages = years_filtered.map(lambda yr:1998-yr).countByValue()\n",
    "values = movie_ages.values()\n",
    "# movie_ages = sorted(movie_ages.items(),cmp=lambda x,y:1 if x[0]>y[0] else (0 if x[1]==y[1] else -1),reverse=False)\n",
    "maSeries = Series(movie_ages.values(),index=movie_ages.keys())\n",
    "# maSeries.sum()\n",
    "maSeries.plot()"
   ]
  },
  {
   "cell_type": "markdown",
   "metadata": {},
   "source": [
    "## 评级数据"
   ]
  },
  {
   "cell_type": "code",
   "execution_count": 23,
   "metadata": {},
   "outputs": [
    {
     "name": "stdout",
     "output_type": "stream",
     "text": [
      "196\t242\t3\t881250949\n",
      "Ratings: 100000\n",
      "data/ml-100k/u.data MapPartitionsRDD[139] at textFile at NativeMethodAccessorImpl.java:0\n"
     ]
    }
   ],
   "source": [
    "ratingPath = \"data/ml-100k/u.data\"\n",
    "rating_data = sc.textFile(ratingPath)\n",
    "print rating_data.first()\n",
    "print \"Ratings:\",rating_data.count()\n",
    "print rating_data\n",
    "def myInt(x):\n",
    "    try:\n",
    "        return int(x)\n",
    "    except:\n",
    "        return np.nan\n",
    "rating_data = rating_data.map(lambda x:x.split(\"\\t\")).map(lambda x:(myInt(x[0]),myInt(x[1]),myInt(x[2]),myInt(x[3])))"
   ]
  },
  {
   "cell_type": "code",
   "execution_count": 24,
   "metadata": {},
   "outputs": [
    {
     "name": "stdout",
     "output_type": "stream",
     "text": [
      "+-------+--------+-------+---------+\n",
      "|user_id|movie_id|ratings|timestamp|\n",
      "+-------+--------+-------+---------+\n",
      "|    196|     242|      3|881250949|\n",
      "|    186|     302|      3|891717742|\n",
      "|     22|     377|      1|878887116|\n",
      "|    244|      51|      2|880606923|\n",
      "|    166|     346|      1|886397596|\n",
      "+-------+--------+-------+---------+\n",
      "\n",
      "+-------+------------------+\n",
      "|summary|           ratings|\n",
      "+-------+------------------+\n",
      "|  count|            100000|\n",
      "|   mean|           3.52986|\n",
      "| stddev|1.1256735991443179|\n",
      "|    min|                 1|\n",
      "|    max|                 5|\n",
      "+-------+------------------+\n",
      "\n"
     ]
    },
    {
     "data": {
      "text/plain": [
       "<matplotlib.axes._subplots.AxesSubplot at 0x7f3999e1dd50>"
      ]
     },
     "execution_count": 24,
     "metadata": {},
     "output_type": "execute_result"
    },
    {
     "data": {
      "image/png": "[encoded data removed]",
      "text/plain": [
       "<matplotlib.figure.Figure at 0x7f3999d234d0>"
      ]
     },
     "metadata": {},
     "output_type": "display_data"
    }
   ],
   "source": [
    "ratingDf=spark.createDataFrame(rating_data,(\"user_id\",\"movie_id\",\"ratings\",\"timestamp\"))\n",
    "ratingDf.limit(5).show()\n",
    "# ratingDf.printSchema()\n",
    "ratingDf.describe('ratings').show()\n",
    "raPDf=ratingDf.groupBy('ratings').count().sort('ratings').toPandas().sort_index(0)\n",
    "raPDf.index=list(raPDf.ix[:,0])\n",
    "raPDf['count'].plot(kind='bar')"
   ]
  },
  {
   "cell_type": "code",
   "execution_count": 25,
   "metadata": {},
   "outputs": [
    {
     "name": "stdout",
     "output_type": "stream",
     "text": [
      "+--------+-----------+-----------+\n",
      "|database|  tableName|isTemporary|\n",
      "+--------+-----------+-----------+\n",
      "| default|       test|      false|\n",
      "| default|      test1|      false|\n",
      "|        |    newuser|       true|\n",
      "|        |ratingtable|       true|\n",
      "|        |       user|       true|\n",
      "+--------+-----------+-----------+\n",
      "\n"
     ]
    }
   ],
   "source": [
    "# gdf.show()\n",
    "grDf=ratingDf.join(gdf,gdf.id==ratingDf.user_id)\\\n",
    ".select('newage','occupation','ratings').groupBy('newage','ratings').count().sort(asc('ratings'))\n",
    "grDf.registerTempTable(\"ratingtable\")\n",
    "spark.sql(\"show tables\").show()"
   ]
  },
  {
   "cell_type": "code",
   "execution_count": 26,
   "metadata": {},
   "outputs": [
    {
     "data": {
      "text/html": [
       "<div>\n",
       "<table border=\"1\" class=\"dataframe\">\n",
       "  <thead>\n",
       "    <tr style=\"text-align: right;\">\n",
       "      <th></th>\n",
       "      <th>ratings</th>\n",
       "      <th>a</th>\n",
       "      <th>b</th>\n",
       "      <th>c</th>\n",
       "      <th>d</th>\n",
       "      <th>e</th>\n",
       "      <th>f</th>\n",
       "      <th>g</th>\n",
       "    </tr>\n",
       "  </thead>\n",
       "  <tbody>\n",
       "    <tr>\n",
       "      <th>0</th>\n",
       "      <td>1</td>\n",
       "      <td>101</td>\n",
       "      <td>2008</td>\n",
       "      <td>2398</td>\n",
       "      <td>818</td>\n",
       "      <td>606</td>\n",
       "      <td>152</td>\n",
       "      <td>27</td>\n",
       "    </tr>\n",
       "    <tr>\n",
       "      <th>1</th>\n",
       "      <td>2</td>\n",
       "      <td>95</td>\n",
       "      <td>3100</td>\n",
       "      <td>4176</td>\n",
       "      <td>2194</td>\n",
       "      <td>1203</td>\n",
       "      <td>524</td>\n",
       "      <td>78</td>\n",
       "    </tr>\n",
       "    <tr>\n",
       "      <th>2</th>\n",
       "      <td>3</td>\n",
       "      <td>198</td>\n",
       "      <td>6812</td>\n",
       "      <td>9680</td>\n",
       "      <td>5536</td>\n",
       "      <td>3466</td>\n",
       "      <td>1271</td>\n",
       "      <td>182</td>\n",
       "    </tr>\n",
       "    <tr>\n",
       "      <th>3</th>\n",
       "      <td>4</td>\n",
       "      <td>263</td>\n",
       "      <td>8350</td>\n",
       "      <td>12098</td>\n",
       "      <td>6727</td>\n",
       "      <td>4585</td>\n",
       "      <td>1862</td>\n",
       "      <td>289</td>\n",
       "    </tr>\n",
       "    <tr>\n",
       "      <th>4</th>\n",
       "      <td>5</td>\n",
       "      <td>205</td>\n",
       "      <td>5419</td>\n",
       "      <td>7092</td>\n",
       "      <td>4316</td>\n",
       "      <td>2920</td>\n",
       "      <td>1114</td>\n",
       "      <td>135</td>\n",
       "    </tr>\n",
       "  </tbody>\n",
       "</table>\n",
       "</div>"
      ],
      "text/plain": [
       "  ratings    a     b      c     d     e     f    g\n",
       "0       1  101  2008   2398   818   606   152   27\n",
       "1       2   95  3100   4176  2194  1203   524   78\n",
       "2       3  198  6812   9680  5536  3466  1271  182\n",
       "3       4  263  8350  12098  6727  4585  1862  289\n",
       "4       5  205  5419   7092  4316  2920  1114  135"
      ]
     },
     "execution_count": 26,
     "metadata": {},
     "output_type": "execute_result"
    }
   ],
   "source": [
    "grDf0=spark.sql(\"select ratings as ratings0,count as a from ratingtable where newage=0\")\n",
    "grDf1=spark.sql(\"select ratings as ratings1,count as b from ratingtable where newage=1\")\n",
    "grDf2=spark.sql(\"select ratings as ratings2,count as c from ratingtable where newage=2\")\n",
    "grDf3=spark.sql(\"select ratings as ratings3,count as d from ratingtable where newage=3\")\n",
    "grDf4=spark.sql(\"select ratings as ratings4,count as e from ratingtable where newage=4\")\n",
    "grDf5=spark.sql(\"select ratings as ratings5,count as f from ratingtable where newage=5\")\n",
    "grDf6=spark.sql(\"select ratings as ratings6,count as g from ratingtable where newage=6\")\n",
    "st=StructType([StructField('ratings',StringType(),True)])\n",
    "# rdd=sc.parallelize([1,2,3,4,5]).map(lambda x:str(x))\n",
    "pdf=DataFrame([1,2,3,4,5],columns=[\"ratings\"])\n",
    "grDf=spark.createDataFrame(pdf,st)\n",
    "# grDf.show()\n",
    "grDf=grDf.join(grDf0,grDf0.ratings0==grDf.ratings).select('ratings','a')\n",
    "grDf=grDf.join(grDf1,grDf1.ratings1==grDf.ratings).select('ratings','a','b')\n",
    "grDf=grDf.join(grDf2,grDf2.ratings2==grDf.ratings).select('ratings','a','b','c')\n",
    "grDf=grDf.join(grDf3,grDf3.ratings3==grDf.ratings).select('ratings','a','b','c','d')\n",
    "grDf=grDf.join(grDf4,grDf4.ratings4==grDf.ratings).select('ratings','a','b','c','d','e')\n",
    "grDf=grDf.join(grDf5,grDf5.ratings5==grDf.ratings).select('ratings','a','b','c','d','e','f')\n",
    "grDf=grDf.join(grDf6,grDf6.ratings6==grDf.ratings).select('ratings','a','b','c','d','e','f','g')\n",
    "grDf=grDf.sort('ratings').toPandas()\n",
    "grDf"
   ]
  },
  {
   "cell_type": "code",
   "execution_count": 27,
   "metadata": {},
   "outputs": [
    {
     "data": {
      "image/png": "[encoded data removed]",
      "text/plain": [
       "<matplotlib.figure.Figure at 0x7f3999d59050>"
      ]
     },
     "metadata": {},
     "output_type": "display_data"
    }
   ],
   "source": [
    "grDf.index=list(grDf['ratings'])\n",
    "grDf.ix[:,1:].plot(kind='bar')\n",
    "fig=plt.gcf()\n",
    "fig.set_size_inches(20,10)\n",
    "# grDf.dtypes"
   ]
  },
  {
   "cell_type": "markdown",
   "metadata": {},
   "source": [
    "## 用户推荐\n",
    "Alternating Least Squares (ALS) matrix factorization.  \n",
    "$A=XY^{T}$  \n",
    "$A_{i}Y(Y^{T}Y)^{-1}=X_i$  \n",
    "$|A_{i}Y(Y^{T}Y)^{-1}-X_i|$ "
   ]
  },
  {
   "cell_type": "code",
   "execution_count": 28,
   "metadata": {},
   "outputs": [
    {
     "name": "stdout",
     "output_type": "stream",
     "text": [
      "+----+----+------+\n",
      "|user|item|rating|\n",
      "+----+----+------+\n",
      "| 196| 242|     3|\n",
      "| 186| 302|     3|\n",
      "|  22| 377|     1|\n",
      "| 244|  51|     2|\n",
      "| 166| 346|     1|\n",
      "| 298| 474|     4|\n",
      "| 115| 265|     2|\n",
      "| 253| 465|     5|\n",
      "| 305| 451|     3|\n",
      "|   6|  86|     3|\n",
      "|  62| 257|     2|\n",
      "| 286|1014|     5|\n",
      "| 200| 222|     5|\n",
      "| 210|  40|     3|\n",
      "| 224|  29|     3|\n",
      "| 303| 785|     3|\n",
      "| 122| 387|     5|\n",
      "| 194| 274|     2|\n",
      "| 291|1042|     4|\n",
      "| 234|1184|     2|\n",
      "+----+----+------+\n",
      "only showing top 20 rows\n",
      "\n"
     ]
    }
   ],
   "source": [
    "ratingDf=ratingDf.select(ratingDf.user_id.alias('user'),ratingDf.movie_id.alias('item'),ratingDf.ratings.alias('rating'))\n",
    "ratingDf.show()"
   ]
  },
  {
   "cell_type": "code",
   "execution_count": 29,
   "metadata": {},
   "outputs": [
    {
     "name": "stdout",
     "output_type": "stream",
     "text": [
      "+----+----+------+\n",
      "|user|item|rating|\n",
      "+----+----+------+\n",
      "|   1|   2|     3|\n",
      "|   1|   5|     3|\n",
      "|   1|   9|     5|\n",
      "|   1|  10|     3|\n",
      "|   1|  21|     1|\n",
      "+----+----+------+\n",
      "\n"
     ]
    }
   ],
   "source": [
    "traingDf,cvDf,testDf=ratingDf.randomSplit([6.0,2.0,2.0],24)\n",
    "cvDf.limit(5).show()"
   ]
  },
  {
   "cell_type": "code",
   "execution_count": 30,
   "metadata": {
    "collapsed": true
   },
   "outputs": [],
   "source": [
    "from pyspark.ml.recommendation import ALS\n",
    "als =ALS(rank=10,maxIter=5,seed=0)\n",
    "model = als.fit(traingDf)"
   ]
  },
  {
   "cell_type": "code",
   "execution_count": 39,
   "metadata": {},
   "outputs": [
    {
     "name": "stdout",
     "output_type": "stream",
     "text": [
      "+---+--------------------+\n",
      "| id|            features|\n",
      "+---+--------------------+\n",
      "| 10|[0.71703637, 0.71...|\n",
      "| 20|[-0.7581753, 0.06...|\n",
      "| 30|[0.9975454, 0.904...|\n",
      "| 40|[0.1166557, 0.306...|\n",
      "| 50|[-0.03754542, 1.6...|\n",
      "+---+--------------------+\n",
      "\n",
      "+----+----+------+----------+\n",
      "|user|item|rating|prediction|\n",
      "+----+----+------+----------+\n",
      "| 580|1028|     3|     3.869|\n",
      "| 580|1014|     3|  3.862942|\n",
      "| 580| 294|     4| 3.6850061|\n",
      "| 580| 289|     5|  2.932541|\n",
      "| 580| 258|     5|  2.768921|\n",
      "| 580| 286|     4|  2.691989|\n",
      "| 580| 343|     5| 2.6503823|\n",
      "| 580| 125|     3|  2.623606|\n",
      "| 580| 281|     2| 2.5606139|\n",
      "| 580| 455|     4|  2.472786|\n",
      "+----+----+------+----------+\n",
      "\n",
      "+----+----+------+\n",
      "|user|item|rating|\n",
      "+----+----+------+\n",
      "| 580| 252|     5|\n",
      "| 580| 250|     5|\n",
      "| 580| 289|     5|\n",
      "| 580| 257|     5|\n",
      "| 580| 271|     5|\n",
      "| 580| 249|     5|\n",
      "| 580|  50|     5|\n",
      "| 580| 282|     5|\n",
      "| 580| 258|     5|\n",
      "| 580| 288|     5|\n",
      "| 580| 343|     5|\n",
      "| 580|   3|     5|\n",
      "| 580| 181|     5|\n",
      "| 580| 358|     4|\n",
      "| 580| 455|     4|\n",
      "| 580| 871|     4|\n",
      "| 580| 121|     4|\n",
      "| 580| 825|     4|\n",
      "| 580| 866|     4|\n",
      "| 580| 148|     4|\n",
      "+----+----+------+\n",
      "only showing top 20 rows\n",
      "\n"
     ]
    }
   ],
   "source": [
    "model.rank\n",
    "model.userFactors.limit(5).show()\n",
    "predictions=model.transform(testDf).filter(\"user==580\").sort(desc('prediction')).limit(10)\n",
    "predictions.show()\n",
    "ratingDf.filter(\"user == 580\").sort(desc('rating')).show()"
   ]
  },
  {
   "cell_type": "code",
   "execution_count": 33,
   "metadata": {},
   "outputs": [
    {
     "name": "stdout",
     "output_type": "stream",
     "text": [
      "+-----------+\n",
      "|   distince|\n",
      "+-----------+\n",
      "|  1.5961869|\n",
      "|-0.47418427|\n",
      "|-0.45788693|\n",
      "|  0.4806893|\n",
      "|   2.018487|\n",
      "|-0.71518016|\n",
      "|-0.18460822|\n",
      "| 0.24131107|\n",
      "|  0.1405325|\n",
      "|-0.65575933|\n",
      "+-----------+\n",
      "\n",
      "Found 1 items\n",
      "drwxr-xr-x   - yanbin supergroup          0 2017-05-19 22:06 /user/yanbin/ml/als/metadata\n",
      "Found 3 items\n",
      "drwxr-xr-x   - yanbin supergroup          0 2017-05-19 22:06 /user/yanbin/ml/als_model/itemFactors\n",
      "drwxr-xr-x   - yanbin supergroup          0 2017-05-19 22:06 /user/yanbin/ml/als_model/metadata\n",
      "drwxr-xr-x   - yanbin supergroup          0 2017-05-19 22:06 /user/yanbin/ml/als_model/userFactors\n"
     ]
    }
   ],
   "source": [
    "predictions.select((predictions.rating-predictions.prediction).alias('distince')).limit(10).show()\n",
    "# als.save(\"ml/als\")\n",
    "# model.save(\"ml/als_model\")\n",
    "!hadoop fs -ls /user/yanbin/ml/als\n",
    "!hadoop fs -ls /user/yanbin/ml/als_model"
   ]
  },
  {
   "cell_type": "code",
   "execution_count": null,
   "metadata": {
    "collapsed": true
   },
   "outputs": [],
   "source": [
    "from pyspark.ml.recommendation import ALSModel \n",
    "model2=ALSModel.load(\"ml/als_model\")\n",
    "predictions2=model.transform(testDf).limit(10)\n",
    "predictions2.select((predictions2.rating-predictions2.prediction).alias('distince')).limit(10).show()"
   ]
  },
  {
   "cell_type": "code",
   "execution_count": 409,
   "metadata": {
    "collapsed": true
   },
   "outputs": [],
   "source": [
    "sc.stop()"
   ]
  }
 ],
 "metadata": {
  "kernelspec": {
   "display_name": "Python 2",
   "language": "python",
   "name": "python2"
  },
  "language_info": {
   "codemirror_mode": {
    "name": "ipython",
    "version": 2
   },
   "file_extension": ".py",
   "mimetype": "text/x-python",
   "name": "python",
   "nbconvert_exporter": "python",
   "pygments_lexer": "ipython2",
   "version": "2.7.12+"
  }
 },
 "nbformat": 4,
 "nbformat_minor": 2
}
