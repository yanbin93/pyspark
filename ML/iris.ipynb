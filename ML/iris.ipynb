{
 "cells": [
  {
   "cell_type": "code",
   "execution_count": 16,
   "metadata": {},
   "outputs": [
    {
     "name": "stdout",
     "output_type": "stream",
     "text": [
      "     a    b    c    d        label\n",
      "0  5.1  3.5  1.4  0.2  Iris-setosa\n",
      "1  4.9  3.0  1.4  0.2  Iris-setosa\n",
      "2  4.7  3.2  1.3  0.2  Iris-setosa\n",
      "3  4.6  3.1  1.5  0.2  Iris-setosa\n",
      "4  5.0  3.6  1.4  0.2  Iris-setosa\n",
      "          a         b         c         d\n",
      "a  1.000000 -0.109369  0.871754  0.817954\n",
      "b -0.109369  1.000000 -0.420516 -0.356544\n",
      "c  0.871754 -0.420516  1.000000  0.962757\n",
      "d  0.817954 -0.356544  0.962757  1.000000\n"
     ]
    },
    {
     "name": "stderr",
     "output_type": "stream",
     "text": [
      "/usr/local/lib/python2.7/dist-packages/ipykernel_launcher.py:8: FutureWarning: \n",
      "The default value for 'return_type' will change to 'axes' in a future release.\n",
      " To use the future behavior now, set return_type='axes'.\n",
      " To keep the previous behavior and silence this warning, set return_type='dict'.\n",
      "  \n"
     ]
    }
   ],
   "source": [
    "import pandas as pd\n",
    "import matplotlib.pyplot as plt\n",
    "iris = pd.read_csv('/home/yanbin/iris.txt')\n",
    "print iris.head(5)\n",
    "print iris.corr()\n",
    "from pandas.tools.plotting import scatter_matrix\n",
    "scatter_matrix(iris, alpha=0.2, figsize=(6, 6), diagonal='kde')\n",
    "iris.boxplot()\n",
    "iris.boxplot(by='label', figsize=(8, 8))\n",
    "iris.ix[:,:-1].hist()\n",
    "iris.plot(kind='kde')\n",
    "from pandas.tools.plotting import radviz\n",
    "radviz(iris, 'label')\n",
    "from pandas.tools.plotting import andrews_curves\n",
    "andrews_curves(iris, 'label')\n",
    "from pandas.tools.plotting import parallel_coordinates\n",
    "parallel_coordinates(iris, 'label')\n",
    "plt.savefig('/home/yanbin/test.png')"
   ]
  }
 ],
 "metadata": {
  "kernelspec": {
   "display_name": "Python 2",
   "language": "python",
   "name": "python2"
  },
  "language_info": {
   "codemirror_mode": {
    "name": "ipython",
    "version": 2
   },
   "file_extension": ".py",
   "mimetype": "text/x-python",
   "name": "python",
   "nbconvert_exporter": "python",
   "pygments_lexer": "ipython2",
   "version": "2.7.12+"
  }
 },
 "nbformat": 4,
 "nbformat_minor": 2
}
