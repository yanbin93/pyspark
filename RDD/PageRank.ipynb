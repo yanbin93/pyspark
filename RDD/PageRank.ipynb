{
 "cells": [
  {
   "cell_type": "code",
   "execution_count": 56,
   "metadata": {},
   "outputs": [
    {
     "name": "stdout",
     "output_type": "stream",
     "text": [
      "[('C', 1.4621033282930214), ('B', 0.9850243302878132), ('A', 0.9850243302878132), ('D', 0.5678480111313515)]\n",
      "[('C', 1.4621033282930214), ('B', 0.9850243302878132), ('A', 0.9850243302878132), ('D', 0.5678480111313515)]\n"
     ]
    }
   ],
   "source": [
    "from pyspark import SparkContext\n",
    "import operator\n",
    "sc = SparkContext()\n",
    "links = sc.parallelize([('A',['B','C']),('B',['A','C']),('C',['A','B','D']),('D',['C'])])\n",
    "#两种转化方式对比。\n",
    "links2 = sc.parallelize({'A':['B','C'],'B':['A','C'],'C':['A','B','D'],'D':['C']}.items())\n",
    "ranks = links.mapValues(lambda x: 1.0)\n",
    "iterMax = 10\n",
    "for i in range(iterMax):\n",
    "    contributions = links.join(ranks).flatMapValues(lambda x:(map(lambda i:(i,x[1]/len(x[0])),x[0]))).values()\n",
    "    ranks = contributions.reduceByKey(operator.add).mapValues(lambda x:0.15+0.85*x)\n",
    "print ranks.collect()\n",
    "#两种计算pagerank值的方式。最后可以看到结果是一样的。\n",
    "ranks = links2.mapValues(lambda x: 1.0)\n",
    "def fun(x):\n",
    "    dests = x[1][0]\n",
    "    n = len(dests)\n",
    "    rank = x[1][1]\n",
    "    result = []\n",
    "    for i in dests:\n",
    "        result.append((i,rank*1.0/n))\n",
    "    return result\n",
    "for i in range(iterMax):\n",
    "    contributions = links2.join(ranks).flatMap(fun)\n",
    "    ranks = contributions.reduceByKey(operator.add).mapValues(lambda x:0.15+0.85*x)\n",
    "print ranks.collect()"
   ]
  }
 ],
 "metadata": {
  "kernelspec": {
   "display_name": "Python 2",
   "language": "python",
   "name": "python2"
  },
  "language_info": {
   "codemirror_mode": {
    "name": "ipython",
    "version": 2
   },
   "file_extension": ".py",
   "mimetype": "text/x-python",
   "name": "python",
   "nbconvert_exporter": "python",
   "pygments_lexer": "ipython2",
   "version": "2.7.12+"
  }
 },
 "nbformat": 4,
 "nbformat_minor": 2
}
