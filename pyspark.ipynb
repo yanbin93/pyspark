{
 "cells": [
  {
   "cell_type": "code",
   "execution_count": 1,
   "metadata": {},
   "outputs": [
    {
     "name": "stdout",
     "output_type": "stream",
     "text": [
      "+----------+-------+-------+--------------------+-----------+--------------------+--------------------+--------------------+--------------+\n",
      "|      asin|helpful|overall|          reviewText| reviewTime|          reviewerID|        reviewerName|             summary|unixReviewTime|\n",
      "+----------+-------+-------+--------------------+-----------+--------------------+--------------------+--------------------+--------------+\n",
      "|000100039X| [0, 0]|    5.0|Spiritually and m...|12 16, 2012|A10000012B7CGYKOM...|                Adam|          Wonderful!|    1355616000|\n",
      "|000100039X| [0, 2]|    5.0|This is one my mu...|12 11, 2003|      A2S166WSCFIFP5|adead_poet@hotmai...|        close to god|    1071100800|\n",
      "|000100039X| [0, 0]|    5.0|This book provide...|01 18, 2014|      A1BM81XB4QHOA3|Ahoro Blethends \"...|Must Read for Lif...|    1390003200|\n",
      "|000100039X| [0, 0]|    5.0|I first read THE ...|09 27, 2011|      A1MOSTXNIO5MPJ|           Alan Krug|Timeless for ever...|    1317081600|\n",
      "|000100039X| [7, 9]|    5.0|A timeless classi...| 10 7, 2002|      A2XQ5LZHTD4AFT|            Alaturka|       A Modern Rumi|    1033948800|\n",
      "|000100039X| [0, 0]|    5.0|Reading this made...|01 27, 2014|      A3V1MKC2BVWY48|         Alex Dawson|This book will br...|    1390780800|\n",
      "|000100039X| [0, 0]|    5.0|As you read, Gibr...|03 28, 2008|      A12387207U8U24|                Alex|          Graet Work|    1206662400|\n",
      "|000100039X| [0, 0]|    5.0|Deep, moving dram...| 11 3, 2013|      A29TRDMK51GKZR|        Alpine Plume|         Such Beauty|    1383436800|\n",
      "|000100039X| [0, 0]|    5.0|This is a timeles...|01 29, 2014|      A3FI0744PG1WYG|Always Reading \"tkm\"|         The Prophet|    1390953600|\n",
      "|000100039X| [0, 0]|    5.0|An amazing work. ...|09 22, 2013|      A2LBBQHYLEHM7P|Amazon Customer \"...|    A Modern Classic|    1379808000|\n",
      "|000100039X| [0, 0]|    5.0|I LOVE this book....|01 15, 2009|      A1340OFLZBW5NG|     Amazon Customer|Perhaps the great...|    1231977600|\n",
      "|000100039X| [0, 0]|    5.0|This book has bee...|11 20, 2013|      A2KU9IU07LOJS1|     Amazon Customer|Great classic tha...|    1384905600|\n",
      "|000100039X| [0, 0]|    5.0|This book has so ...|03 16, 2014|      A2WVHIRDMLM82E|     Amazon Customer|             Amazing|    1394928000|\n",
      "|000100039X| [0, 0]|    5.0|When I was in col...|02 28, 2001|      A2I35JB67U20C0|     Amazon Customer|Everyone should h...|     983318400|\n",
      "|000100039X| [1, 1]|    5.0|I discovered The ...|01 23, 2013|      A19N3FCQCLJYUA|     Amazon Customer|A book everyone &...|    1358899200|\n",
      "|000100039X| [1, 1]|    5.0|Can't say enough ...|06 27, 2012|      A3FFNE1DR5SI1W|          A. Morelli|phenomenal piece ...|    1340755200|\n",
      "|000100039X| [0, 0]|    5.0|I have the 1972 v...|07 16, 2012|      A1TT4CY55WLHAR|           anonymous|textured paper, o...|    1342396800|\n",
      "|000100039X| [3, 5]|    5.0|Anything I've rea...|11 16, 2005|      A2X4HE21JTAL98|         Antiquarian|            Flawless|    1132099200|\n",
      "|000100039X| [1, 1]|    5.0|Cool book, I real...|02 15, 2012|       ARDQ9KNB8K22N|               Anwar|\"The Prophet\" is ...|    1329264000|\n",
      "|000100039X| [3, 3]|    5.0|This book is ever...|10 13, 2003|       A27ZH1AQORJ1L|anybody else or \"...|          Enchanting|    1066003200|\n",
      "+----------+-------+-------+--------------------+-----------+--------------------+--------------------+--------------------+--------------+\n",
      "only showing top 20 rows\n",
      "\n"
     ]
    },
    {
     "ename": "TypeError",
     "evalue": "filter() got an unexpected keyword argument 'overall'",
     "traceback": [
      "\u001b[0;31m---------------------------------------------------------------------------\u001b[0m",
      "\u001b[0;31mTypeError\u001b[0m                                 Traceback (most recent call last)",
      "\u001b[0;32m<ipython-input-1-b75a50998eae>\u001b[0m in \u001b[0;36m<module>\u001b[0;34m()\u001b[0m\n\u001b[1;32m     19\u001b[0m \u001b[0;32mfrom\u001b[0m \u001b[0mpandas\u001b[0m \u001b[0;32mimport\u001b[0m \u001b[0;34m*\u001b[0m\u001b[0;34m\u001b[0m\u001b[0m\n\u001b[1;32m     20\u001b[0m \u001b[0;32mimport\u001b[0m \u001b[0mmatplotlib\u001b[0m\u001b[0;34m.\u001b[0m\u001b[0mpyplot\u001b[0m \u001b[0;32mas\u001b[0m \u001b[0mplt\u001b[0m\u001b[0;34m\u001b[0m\u001b[0m\n\u001b[0;32m---> 21\u001b[0;31m \u001b[0mdf\u001b[0m\u001b[0;34m.\u001b[0m\u001b[0mfilter\u001b[0m\u001b[0;34m(\u001b[0m\u001b[0moverall\u001b[0m\u001b[0;34m=\u001b[0m\u001b[0;36m5\u001b[0m\u001b[0;34m)\u001b[0m\u001b[0;34m.\u001b[0m\u001b[0mshow\u001b[0m\u001b[0;34m(\u001b[0m\u001b[0;34m)\u001b[0m\u001b[0;34m\u001b[0m\u001b[0m\n\u001b[0m\u001b[1;32m     22\u001b[0m \u001b[0mdf\u001b[0m\u001b[0;34m.\u001b[0m\u001b[0mcollect\u001b[0m\u001b[0;34m(\u001b[0m\u001b[0;34m)\u001b[0m\u001b[0;34m\u001b[0m\u001b[0m\n\u001b[1;32m     23\u001b[0m \u001b[0mdf\u001b[0m\u001b[0;34m.\u001b[0m\u001b[0mregisterTempTable\u001b[0m\u001b[0;34m(\u001b[0m\u001b[0;34m\"wordcount\"\u001b[0m\u001b[0;34m)\u001b[0m\u001b[0;34m\u001b[0m\u001b[0m\n",
      "\u001b[0;31mTypeError\u001b[0m: filter() got an unexpected keyword argument 'overall'"
     ],
     "output_type": "error"
    }
   ],
   "source": [
    "from pyspark import SparkContext,SparkConf\n",
    "from operator import add\n",
    "from pyspark.sql import SparkSession\n",
    "spark = SparkSession \\\n",
    "    .builder \\\n",
    "    .appName(\"pyspark\") \\\n",
    "    .config(\"spark.some.config.option\", \"some-value\") \\\n",
    "    .getOrCreate()\n",
    "conf = SparkConf().setAppName(\"myPySpark\")\n",
    "conf = conf.setMaster(\"local[2]\")\n",
    "sc=spark.sparkContext\n",
    "inputPath=\"file:///home/yanbin/sample.json\"\n",
    "# rawdata=sc.textFile(inputPath)\n",
    "# data=rawdata.flatMap(lambda x:x.split(\" \")).map(lambda x:(x,1)).reduceByKey(lambda x,y:x+y)\n",
    "# def f(x):\n",
    "#     print x\n",
    "# data.foreach(lambda x:f)\n",
    "# data.saveAsTextFile(\"file:///home/yanbin/output1\")\n",
    "df=spark.read.json(inputPath)\n",
    "# df=spark.createDataFrame(data)\n",
    "df.show()\n",
    "\n",
    "from pandas import *\n",
    "import matplotlib.pyplot as plt\n",
    "df.filter(overall=5).show()\n",
    "df.collect()\n",
    "df.registerTempTable(\"wordcount\")\n",
    "pandasDf=df.toPandas()\n",
    "plt.figure()\n",
    "newdf=pandasDf.ix[:,1]\n",
    "newdf.index=pandasDf.ix[:,0].tolist()\n",
    "newdf.plot()\n",
    "plt.show()"
   ]
  },
  {
   "cell_type": "markdown",
   "metadata": {},
   "source": []
  },
  {
   "cell_type": "markdown",
   "metadata": {},
   "source": [
    "<a href=\"www.baidu.com\"/>"
   ]
  },
  {
   "cell_type": "markdown",
   "metadata": {},
   "source": [
    "<font color='red'>\n",
    "**i am yanbin**       \n",
    "</font>\n",
    "Fruit\n",
    "* apple\n",
    "> this apple\n",
    "* orange\n",
    "* peach\n",
    "* banana\n",
    "\n",
    "![图片测试]（/home/yanbin/lm.png\"test\"）\n",
    "\n",
    "$$g(x,y)=\\frac{1}{2\\pi\\sigma^2}e^{-\\frac{x^2+y^2}{2\\sigma^2}}$$\n",
    "[1]:http://www.yanbin.info \"yanbin's blog\""
   ]
  },
  {
   "cell_type": "markdown",
   "metadata": {},
   "source": [
    "### 代码块\n",
    "``` python\n",
    "@requires_authorization\n",
    "def somefunc(param1='', param2=0):\n",
    "    '''A docstring'''\n",
    "    if param1 > param2: # interesting\n",
    "        print 'Greater'\n",
    "    return (param2 - param1 + 1) or None\n",
    "class SomeClass:\n",
    "    pass\n",
    ">>> message = '''interpreter\n",
    "... prompt'''\n",
    "```"
   ]
  },
  {
   "cell_type": "code",
   "execution_count": 8,
   "metadata": {},
   "outputs": [
    {
     "data": {
      "image/png": "[encoded data removed]",
      "text/plain": [
       "<matplotlib.figure.Figure at 0x7f78301f6490>"
      ]
     },
     "metadata": {},
     "output_type": "display_data"
    }
   ],
   "source": [
    "%matplotlib inline\n",
    "from pylab import *\n",
    "x = linspace(-8, 8, 400)\n",
    "sigma = 0.5\n",
    "u = 0\n",
    "y = 1/sqrt(2*pi*sigma)*exp(-(x-u)**2/(2*sigma))\n",
    "plot(x, y, 'r', label=r'$\\sigma^2=0.5\\quad \\mu=0$')\n",
    "sigma = 1\n",
    "y = 1/sqrt(2*pi*sigma)*exp(-(x-u)**2/(2*sigma))\n",
    "plot(x, y, 'g', label=r'$\\sigma^2=1\\quad \\mu=0$')\n",
    "sigma = 5\n",
    "y = 1/sqrt(2*pi*sigma)*exp(-(x-u)**2/(2*sigma))\n",
    "plot(x, y, 'b', label=r'$\\sigma^2=5\\quad \\mu=0$')\n",
    "u = 2\n",
    "sigma = 2\n",
    "y = 1/sqrt(2*pi*sigma)*exp(-(x-u)**2/(2*sigma))\n",
    "plot(x, y, 'k', label=r'$\\sigma^2=1\\quad \\mu=0$')\n",
    "\n",
    "legend(loc='upper left')\n",
    "ax = gca()\n",
    "ax.spines['right'].set_color('none')\n",
    "ax.spines['top'].set_color('none')\n",
    "ax.xaxis.set_ticks_position('bottom')\n",
    "ax.spines['bottom'].set_position(('data', 0))\n",
    "ax.yaxis.set_ticks_position('left')\n",
    "ax.spines['left'].set_position(('data', 0))"
   ]
  },
  {
   "cell_type": "code",
   "execution_count": 7,
   "metadata": {},
   "outputs": [
    {
     "data": {
      "image/png": "[encoded data removed]",
      "text/plain": [
       "<IPython.core.display.Image at 0x7f78301d4b10>"
      ]
     },
     "execution_count": 7,
     "metadata": {},
     "output_type": "execute_result"
    }
   ],
   "source": [
    "from IPython.display import Image\n",
    "Image(filename=\"/home/yanbin/lm.png\")"
   ]
  },
  {
   "cell_type": "code",
   "execution_count": 9,
   "metadata": {},
   "outputs": [
    {
     "ename": "SyntaxError",
     "evalue": "invalid syntax (<ipython-input-9-e0204b86a69f>, line 5)",
     "traceback": [
      "\u001b[0;36m  File \u001b[0;32m\"<ipython-input-9-e0204b86a69f>\"\u001b[0;36m, line \u001b[0;32m5\u001b[0m\n\u001b[0;31m    plot(x, y1, ‘r’, label=r’$y=\\sin x$’)\u001b[0m\n\u001b[0m                ^\u001b[0m\n\u001b[0;31mSyntaxError\u001b[0m\u001b[0;31m:\u001b[0m invalid syntax\n"
     ],
     "output_type": "error"
    }
   ],
   "source": [
    "%matplotlib inline\n",
    "x = linspace(-pi, pi, 400)\n",
    "y1 = sin(x)\n",
    "y2 = cos(x)\n",
    "plot(x, y1, ‘r’, label=r’$y=\\sin x$’)\n",
    "plot(x, y2, ‘b’, label=r’$y=\\cos x$’)\n",
    "plot([-pi/2, -pi/2], [0, sin(-pi/2)], ‘r–‘)\n",
    "plot([pi/2, pi/2], [0, sin(pi/2)], ‘r–‘)\n",
    "xlim(-pi, pi)\n",
    "legend(loc=’upper left’)\n",
    "ax = gca()\n",
    "ax.spines[‘right’].set_color(‘none’)\n",
    "ax.spines[‘top’].set_color(‘none’)\n",
    "ax.xaxis.set_ticks_position(‘bottom’)\n",
    "ax.spines[‘bottom’].set_position((‘data’, 0))\n",
    "ax.yaxis.set_ticks_position(‘left’)\n",
    "ax.spines[‘left’].set_position((‘data’, 0))\n",
    "xticks([-pi, -pi/2, 0, pi/2, pi], [r'$-\\pi$', r'$-\\frac{\\pi}{2}$', 0, r'$\\frac{\\pi}{2}$', r'$\\pi$'])"
   ]
  },
  {
   "cell_type": "code",
   "execution_count": 2,
   "metadata": {},
   "outputs": [
    {
     "ename": "NameError",
     "evalue": "name 'SPARK_HOME' is not defined",
     "traceback": [
      "\u001b[0;31m---------------------------------------------------------------------------\u001b[0m",
      "\u001b[0;31mNameError\u001b[0m                                 Traceback (most recent call last)",
      "\u001b[0;32m<ipython-input-2-c1bddfe3691c>\u001b[0m in \u001b[0;36m<module>\u001b[0;34m()\u001b[0m\n\u001b[0;32m----> 1\u001b[0;31m \u001b[0;32mprint\u001b[0m \u001b[0mSPARK_HOME\u001b[0m\u001b[0;34m\u001b[0m\u001b[0m\n\u001b[0m",
      "\u001b[0;31mNameError\u001b[0m: name 'SPARK_HOME' is not defined"
     ],
     "output_type": "error"
    }
   ],
   "source": [
    "print SPARK_HOME"
   ]
  },
  {
   "cell_type": "code",
   "execution_count": null,
   "metadata": {
    "collapsed": true
   },
   "outputs": [],
   "source": [
    ""
   ]
  }
 ],
 "metadata": {
  "kernelspec": {
   "display_name": "Python 2",
   "language": "python",
   "name": "python2"
  },
  "language_info": {
   "codemirror_mode": {
    "name": "ipython",
    "version": 2.0
   },
   "file_extension": ".py",
   "mimetype": "text/x-python",
   "name": "python",
   "nbconvert_exporter": "python",
   "pygments_lexer": "ipython2",
   "version": "2.7.12+"
  }
 },
 "nbformat": 4,
 "nbformat_minor": 0
}