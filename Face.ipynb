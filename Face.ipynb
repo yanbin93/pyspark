{
 "cells": [
  {
   "cell_type": "code",
   "execution_count": 2,
   "metadata": {},
   "outputs": [
    {
     "name": "stdout",
     "output_type": "stream",
     "text": [
      "24.89ed54a2e6c2050ccc9541ecb684b299.2592000.1501899520.282335-9847519\n"
     ]
    }
   ],
   "source": [
    "import urllib, urllib2, sys\n",
    "import ssl\n",
    "import json\n",
    "\n",
    "class token:\n",
    "    access_token=None\n",
    "    def __init__(self,client_id=\"hbFpUq7qMOGYQVCDpLjcsAR7\",\n",
    "                 client_secret=\"HyexuFgDqurUuoEYm2NWehmDGvyjo17o\"):\n",
    "        self.client_id=client_id\n",
    "        self.client_secret=client_secret\n",
    "            \n",
    "    def access_token(self):\n",
    "        host = ('https://aip.baidubce.com/oauth/2.0/token?grant_type=client_credentials'+\n",
    "            \"&client_id=\"+self.client_id+\n",
    "           \"&client_secret=\"+self.client_secret)\n",
    "        request = urllib2.Request(host)\n",
    "        request.add_header('Content-Type', 'application/json; charset=UTF-8')\n",
    "        ctx = ssl.create_default_context()\n",
    "        ctx.check_hostname = False\n",
    "        ctx.verify_mode = ssl.CERT_NONE\n",
    "        response = urllib2.urlopen(request, context=ctx)\n",
    "        content = response.read()\n",
    "        access_token = json.loads(content)['access_token']\n",
    "        return access_token\n",
    "    \n",
    "if __name__ == \"__main__\":\n",
    "    token = token()\n",
    "    print token.access_token()"
   ]
  },
  {
   "cell_type": "code",
   "execution_count": 12,
   "metadata": {},
   "outputs": [
    {
     "name": "stdout",
     "output_type": "stream",
     "text": [
      "rotation_angle -9\n",
      "gender_probability 0.99998664856\n",
      "beauty 66.5338745117\n",
      "glasses_probability 0.999882340431\n",
      "expression_probablity 0.999999761581\n",
      "gender male\n",
      "yaw 3.34440994263\n",
      "race_probability 0.999441087246\n",
      "landmark72 [{u'y': 110, u'x': 40}, {u'y': 127, u'x': 43}, {u'y': 143, u'x': 48}, {u'y': 159, u'x': 55}, {u'y': 174, u'x': 68}, {u'y': 182, u'x': 86}, {u'y': 182, u'x': 102}, {u'y': 177, u'x': 120}, {u'y': 166, u'x': 136}, {u'y': 147, u'x': 148}, {u'y': 129, u'x': 151}, {u'y': 111, u'x': 151}, {u'y': 93, u'x': 151}, {u'y': 104, u'x': 56}, {u'y': 99, u'x': 60}, {u'y': 97, u'x': 65}, {u'y': 97, u'x': 70}, {u'y': 101, u'x': 76}, {u'y': 103, u'x': 71}, {u'y': 104, u'x': 66}, {u'y': 105, u'x': 60}, {u'y': 100, u'x': 66}, {u'y': 95, u'x': 46}, {u'y': 86, u'x': 51}, {u'y': 83, u'x': 60}, {u'y': 83, u'x': 69}, {u'y': 88, u'x': 78}, {u'y': 89, u'x': 70}, {u'y': 91, u'x': 61}, {u'y': 93, u'x': 53}, {u'y': 96, u'x': 104}, {u'y': 91, u'x': 108}, {u'y': 88, u'x': 113}, {u'y': 89, u'x': 119}, {u'y': 92, u'x': 125}, {u'y': 95, u'x': 121}, {u'y': 96, u'x': 115}, {u'y': 97, u'x': 109}, {u'y': 92, u'x': 114}, {u'y': 84, u'x': 96}, {u'y': 77, u'x': 103}, {u'y': 74, u'x': 112}, {u'y': 73, u'x': 122}, {u'y': 80, u'x': 131}, {u'y': 80, u'x': 122}, {u'y': 81, u'x': 113}, {u'y': 83, u'x': 105}, {u'y': 100, u'x': 83}, {u'y': 109, u'x': 82}, {u'y': 119, u'x': 81}, {u'y': 130, u'x': 80}, {u'y': 128, u'x': 87}, {u'y': 126, u'x': 100}, {u'y': 126, u'x': 107}, {u'y': 115, u'x': 102}, {u'y': 106, u'x': 99}, {u'y': 97, u'x': 96}, {u'y': 120, u'x': 91}, {u'y': 153, u'x': 81}, {u'y': 145, u'x': 86}, {u'y': 142, u'x': 96}, {u'y': 142, u'x': 106}, {u'y': 148, u'x': 114}, {u'y': 152, u'x': 106}, {u'y': 154, u'x': 98}, {u'y': 155, u'x': 89}, {u'y': 149, u'x': 88}, {u'y': 147, u'x': 96}, {u'y': 146, u'x': 105}, {u'y': 147, u'x': 105}, {u'y': 148, u'x': 96}, {u'y': 150, u'x': 89}]\n",
      "faceshape [{u'type': u'square', u'probability': 0.69190603494644}, {u'type': u'triangle', u'probability': 0.033519834280014}, {u'type': u'oval', u'probability': 0.17186509072781}, {u'type': u'heart', u'probability': 0.0016949442215264}, {u'type': u'round', u'probability': 0.10101410746574}]\n",
      "age 42.1050338745\n",
      "race yellow\n",
      "location {u'width': 112, u'top': 87, u'height': 105, u'left': 36}\n",
      "qualities {u'illumination': 0, u'occlusion': {u'right_eye': 0, u'left_eye': 0, u'left_cheek': 0, u'mouth': 0, u'nose': 0, u'chin': 0, u'right_cheek': 0}, u'completeness': 0, u'type': {u'cartoon': 0.0010937965707853, u'human': 0.99890619516373}, u'blur': 0}\n",
      "pitch -1.68408739567\n",
      "landmark [{u'y': 100, u'x': 66}, {u'y': 92, u'x': 114}, {u'y': 120, u'x': 91}, {u'y': 148, u'x': 97}]\n",
      "glasses 1\n",
      "expression 0\n",
      "roll -9.82291984558\n",
      "face_probability 1\n"
     ]
    }
   ],
   "source": [
    "import sys\n",
    "sys.path.append(\"/home/yanbin/ipython-notebook\")\n",
    "# encoding:utf-8\n",
    "import base64\n",
    "import urllib\n",
    "import urllib2\n",
    "'''\n",
    "人脸检测接口\n",
    "'''\n",
    "\n",
    "detectUrl = \"https://aip.baidubce.com/rest/2.0/face/v1/detect\"\n",
    "# 参数image：图像base64编码，max_face_num：最多处理人脸数目，默认值1，face_fields：包括age,beauty,expression,faceshape,gender,glasses,landmark,race,qualities信息，逗号分隔，默认只返回人脸框、概率和旋转角度\\\n",
    "f=open(r'/home/yanbin/yu.jpg','rb') #二进制方式打开图文件\n",
    "img=base64.b64encode(f.read())\n",
    "params = {\"max_face_num\": 1, \"face_fields\": \"age,beauty,expression,faceshape,gender,glasses,landmark,race,qualities\",\n",
    "          \"image\": img}\n",
    "params = urllib.urlencode(params)\n",
    "access_token = token.access_token()\n",
    "detectUrl = detectUrl + \"?access_token=\" + access_token\n",
    "request = urllib2.Request(url=detectUrl, data=params)\n",
    "request.add_header('Content-Type', 'application/x-www-form-urlencoded')\n",
    "response = urllib2.urlopen(request)\n",
    "content = response.read()\n",
    "if content:\n",
    "    for i in json.loads(content)['result']:\n",
    "        for k,v in i.items():\n",
    "            print k,v"
   ]
  },
  {
   "cell_type": "code",
   "execution_count": 13,
   "metadata": {},
   "outputs": [
    {
     "name": "stdout",
     "output_type": "stream",
     "text": [
      "{\"result\":[{\"index_i\":\"0\",\"index_j\":\"1\",\"score\":95.625221252441}],\"result_num\":1,\"ext_info\":{\"faceliveness\":\"1,0.99999988079071\"},\"log_id\":4238854775070610}\n"
     ]
    }
   ],
   "source": [
    "# encoding:utf-8\n",
    "import base64\n",
    "import urllib\n",
    "import urllib2\n",
    "\n",
    "# from token import access_token\n",
    "\n",
    "'''\n",
    "人脸比对接口\n",
    "'''\n",
    "\n",
    "matchUrl = \"https://aip.baidubce.com/rest/2.0/face/v2/match\"\n",
    "# 参数images：图像base64编码,多张图片半角逗号分隔\n",
    "f=open(r'/home/yanbin/xifu.jpg','rb') #二进制方式打开图文件\n",
    "img1=base64.b64encode(f.read())\n",
    "f=open(r'/home/yanbin/2.jpg','rb') #二进制方式打开图文件\n",
    "img2=base64.b64encode(f.read())\n",
    "params = {\n",
    "    \"images\": img1+','+img2,'image_liveness':\"faceliveness,faceliveness\"}\n",
    "params = urllib.urlencode(params)\n",
    "access_token = access_token\n",
    "matchUrl = matchUrl + \"?access_token=\" + access_token\n",
    "request = urllib2.Request(url=matchUrl, data=params)\n",
    "request.add_header('Content-Type', 'application/x-www-form-urlencoded')\n",
    "response = urllib2.urlopen(request)\n",
    "content = response.read()\n",
    "if content:\n",
    "    print content\n",
    "#     for i in json.loads(content)['result']:\n",
    "#         for k,v in i.items():\n",
    "#             print k,v"
   ]
  },
  {
   "cell_type": "code",
   "execution_count": 24,
   "metadata": {},
   "outputs": [
    {
     "name": "stdout",
     "output_type": "stream",
     "text": [
      "{\"error_code\":216618,\"error_msg\":\"no user in group\",\"log_id\":2724037549070518}\n"
     ]
    }
   ],
   "source": [
    "# encoding:utf-8\n",
    "import base64\n",
    "import urllib\n",
    "import urllib2\n",
    "\n",
    "\n",
    "'''\n",
    "人脸查找之识别接口\n",
    "'''\n",
    "\n",
    "identifyUrl = \"https://aip.baidubce.com/rest/2.0/face/v2/identify\"\n",
    "# 参数group_id：用户组id（由数字、字母、下划线组成）images：图像base64编码,多张图片半角逗号分隔\\\n",
    "f=open(r'/home/yanbin/1.jpg','rb') #二进制方式打开图文件\n",
    "img=base64.b64encode(f.read())\n",
    "params = {\"group_id\": \"gid\",\n",
    "          \"images\": img}\n",
    "params = urllib.urlencode(params)\n",
    "access_token = access_token\n",
    "identifyUrl = identifyUrl + \"?access_token=\" + access_token\n",
    "request = urllib2.Request(url=identifyUrl, data=params)\n",
    "request.add_header('Content-Type', 'application/x-www-form-urlencoded')\n",
    "response = urllib2.urlopen(request)\n",
    "content = response.read()\n",
    "if content:\n",
    "    print content"
   ]
  },
  {
   "cell_type": "code",
   "execution_count": null,
   "metadata": {
    "collapsed": true
   },
   "outputs": [],
   "source": [
    "# encoding:utf-8\n",
    "import base64\n",
    "import urllib\n",
    "import urllib2\n",
    "\n",
    "from token import access_token\n",
    "\n",
    "'''\n",
    "人脸查找之认证接口\n",
    "'''\n",
    "\n",
    "verifyUrl = \"https://aip.baidubce.com/rest/2.0/face/v2/verify\"\n",
    "# 参数uid：用户id（由数字、字母、下划线组成）images：图像base64编码,多张图片半角逗号分隔\n",
    "f=open(r'/home/yanbin/1.jpg','rb') #二进制方式打开图文件\n",
    "img=base64.b64encode(f.read())\n",
    "params = {\"uid\": \"testuid\",\n",
    "          \"images\": img}\n",
    "params = urllib.urlencode(params)\n",
    "access_token = access_token\n",
    "verifyUrl = verifyUrl + \"?access_token=\" + access_token\n",
    "request = urllib2.Request(url=verifyUrl, data=params)\n",
    "request.add_header('Content-Type', 'application/x-www-form-urlencoded')\n",
    "response = urllib2.urlopen(request)\n",
    "content = response.read()\n",
    "if content:\n",
    "    print content"
   ]
  }
 ],
 "metadata": {
  "kernelspec": {
   "display_name": "Python 2",
   "language": "python",
   "name": "python2"
  },
  "language_info": {
   "codemirror_mode": {
    "name": "ipython",
    "version": 2
   },
   "file_extension": ".py",
   "mimetype": "text/x-python",
   "name": "python",
   "nbconvert_exporter": "python",
   "pygments_lexer": "ipython2",
   "version": "2.7.12+"
  }
 },
 "nbformat": 4,
 "nbformat_minor": 2
}
