{
 "cells": [
  {
   "cell_type": "code",
   "execution_count": 1,
   "metadata": {
    "collapsed": true
   },
   "outputs": [],
   "source": [
    "from pyspark.sql import SparkSession\n",
    "from pyspark import SparkContext,SparkConf\n",
    "spark = SparkSession.builder.\\\n",
    "            master(\"local\").\\\n",
    "            appName(\"my App Name\").\\\n",
    "            getOrCreate()\n",
    "sc = spark.sparkContext"
   ]
  },
  {
   "cell_type": "code",
   "execution_count": 10,
   "metadata": {
    "collapsed": true
   },
   "outputs": [],
   "source": [
    "from pyspark.ml.feature import *\n",
    "from pyspark.ml.classification import LogisticRegression\n",
    "from pyspark.ml import Pipeline,PipelineModel\n",
    "from pyspark.ml.linalg import Vectors\n",
    "from pyspark.sql import Row\n"
   ]
  },
  {
   "cell_type": "code",
   "execution_count": 12,
   "metadata": {},
   "outputs": [
    {
     "name": "stdout",
     "output_type": "stream",
     "text": [
      "5.1,3.5,1.4,0.2,Iris-setosa\n",
      "4.9,3.0,1.4,0.2,Iris-setosa\n",
      "4.7,3.2,1.3,0.2,Iris-setosa\n",
      "4.6,3.1,1.5,0.2,Iris-setosa\n",
      "5.0,3.6,1.4,0.2,Iris-setosa\n",
      "+-----------------+-----------+\n",
      "|         features|      label|\n",
      "+-----------------+-----------+\n",
      "|[5.1,3.5,1.4,0.2]|Iris-setosa|\n",
      "|[4.9,3.0,1.4,0.2]|Iris-setosa|\n",
      "|[4.7,3.2,1.3,0.2]|Iris-setosa|\n",
      "|[4.6,3.1,1.5,0.2]|Iris-setosa|\n",
      "|[5.0,3.6,1.4,0.2]|Iris-setosa|\n",
      "|[5.4,3.9,1.7,0.4]|Iris-setosa|\n",
      "|[4.6,3.4,1.4,0.3]|Iris-setosa|\n",
      "|[5.0,3.4,1.5,0.2]|Iris-setosa|\n",
      "|[4.4,2.9,1.4,0.2]|Iris-setosa|\n",
      "|[4.9,3.1,1.5,0.1]|Iris-setosa|\n",
      "|[5.4,3.7,1.5,0.2]|Iris-setosa|\n",
      "|[4.8,3.4,1.6,0.2]|Iris-setosa|\n",
      "|[4.8,3.0,1.4,0.1]|Iris-setosa|\n",
      "|[4.3,3.0,1.1,0.1]|Iris-setosa|\n",
      "|[5.8,4.0,1.2,0.2]|Iris-setosa|\n",
      "|[5.7,4.4,1.5,0.4]|Iris-setosa|\n",
      "|[5.4,3.9,1.3,0.4]|Iris-setosa|\n",
      "|[5.1,3.5,1.4,0.3]|Iris-setosa|\n",
      "|[5.7,3.8,1.7,0.3]|Iris-setosa|\n",
      "|[5.1,3.8,1.5,0.3]|Iris-setosa|\n",
      "+-----------------+-----------+\n",
      "only showing top 20 rows\n",
      "\n"
     ]
    }
   ],
   "source": [
    "!head -5 /home/yanbin/iris.txt\n",
    "rawdata = sc.textFile(\"data/iris.txt\").map(lambda line:line.split(\",\"))\\\n",
    "          .map(lambda x:Row(Vectors.dense(float(x[0]),float(x[1]),float(x[2]),float(x[3])),x[4]))\n",
    "df = spark.createDataFrame(rawdata,[\"features\",\"label\"])\n",
    "df.show()"
   ]
  },
  {
   "cell_type": "code",
   "execution_count": 25,
   "metadata": {
    "collapsed": true
   },
   "outputs": [],
   "source": [
    "labelIndexer = StringIndexer(inputCol=\"label\",outputCol=\"indexedLabel\").fit(df)\n",
    "featureIndexer = VectorIndexer(inputCol=\"features\",outputCol=\"indexedFeatures\",maxCategories=4).fit(df)\n",
    "labelConverter = IndexToString(inputCol=\"prediction\",outputCol=\"predictedLabel\",labels=(labelIndexer.labels))\n",
    "trainingData,testData = df.randomSplit([7.0,3.0])"
   ]
  },
  {
   "cell_type": "code",
   "execution_count": 30,
   "metadata": {},
   "outputs": [
    {
     "name": "stdout",
     "output_type": "stream",
     "text": [
      "+-----------------+-----------+------------+-----------------+\n",
      "|         features|      label|indexedLabel|  indexedFeatures|\n",
      "+-----------------+-----------+------------+-----------------+\n",
      "|[5.1,3.5,1.4,0.2]|Iris-setosa|         0.0|[5.1,3.5,1.4,0.2]|\n",
      "|[4.9,3.0,1.4,0.2]|Iris-setosa|         0.0|[4.9,3.0,1.4,0.2]|\n",
      "|[4.7,3.2,1.3,0.2]|Iris-setosa|         0.0|[4.7,3.2,1.3,0.2]|\n",
      "|[4.6,3.1,1.5,0.2]|Iris-setosa|         0.0|[4.6,3.1,1.5,0.2]|\n",
      "|[5.0,3.6,1.4,0.2]|Iris-setosa|         0.0|[5.0,3.6,1.4,0.2]|\n",
      "|[5.4,3.9,1.7,0.4]|Iris-setosa|         0.0|[5.4,3.9,1.7,0.4]|\n",
      "|[4.6,3.4,1.4,0.3]|Iris-setosa|         0.0|[4.6,3.4,1.4,0.3]|\n",
      "|[5.0,3.4,1.5,0.2]|Iris-setosa|         0.0|[5.0,3.4,1.5,0.2]|\n",
      "|[4.4,2.9,1.4,0.2]|Iris-setosa|         0.0|[4.4,2.9,1.4,0.2]|\n",
      "|[4.9,3.1,1.5,0.1]|Iris-setosa|         0.0|[4.9,3.1,1.5,0.1]|\n",
      "|[5.4,3.7,1.5,0.2]|Iris-setosa|         0.0|[5.4,3.7,1.5,0.2]|\n",
      "|[4.8,3.4,1.6,0.2]|Iris-setosa|         0.0|[4.8,3.4,1.6,0.2]|\n",
      "|[4.8,3.0,1.4,0.1]|Iris-setosa|         0.0|[4.8,3.0,1.4,0.1]|\n",
      "|[4.3,3.0,1.1,0.1]|Iris-setosa|         0.0|[4.3,3.0,1.1,0.1]|\n",
      "|[5.8,4.0,1.2,0.2]|Iris-setosa|         0.0|[5.8,4.0,1.2,0.2]|\n",
      "|[5.7,4.4,1.5,0.4]|Iris-setosa|         0.0|[5.7,4.4,1.5,0.4]|\n",
      "|[5.4,3.9,1.3,0.4]|Iris-setosa|         0.0|[5.4,3.9,1.3,0.4]|\n",
      "|[5.1,3.5,1.4,0.3]|Iris-setosa|         0.0|[5.1,3.5,1.4,0.3]|\n",
      "|[5.7,3.8,1.7,0.3]|Iris-setosa|         0.0|[5.7,3.8,1.7,0.3]|\n",
      "|[5.1,3.8,1.5,0.3]|Iris-setosa|         0.0|[5.1,3.8,1.5,0.3]|\n",
      "+-----------------+-----------+------------+-----------------+\n",
      "only showing top 20 rows\n",
      "\n"
     ]
    }
   ],
   "source": []
  },
  {
   "cell_type": "code",
   "execution_count": 31,
   "metadata": {},
   "outputs": [
    {
     "name": "stdout",
     "output_type": "stream",
     "text": [
      "+----------+---------------+---------------+\n",
      "|prediction|          label| predictedLabel|\n",
      "+----------+---------------+---------------+\n",
      "|       0.0|    Iris-setosa|    Iris-setosa|\n",
      "|       0.0|    Iris-setosa|    Iris-setosa|\n",
      "|       0.0|    Iris-setosa|    Iris-setosa|\n",
      "|       0.0|    Iris-setosa|    Iris-setosa|\n",
      "|       0.0|    Iris-setosa|    Iris-setosa|\n",
      "|       0.0|    Iris-setosa|    Iris-setosa|\n",
      "|       0.0|    Iris-setosa|    Iris-setosa|\n",
      "|       0.0|    Iris-setosa|    Iris-setosa|\n",
      "|       0.0|    Iris-setosa|    Iris-setosa|\n",
      "|       0.0|    Iris-setosa|    Iris-setosa|\n",
      "|       0.0|    Iris-setosa|    Iris-setosa|\n",
      "|       0.0|    Iris-setosa|    Iris-setosa|\n",
      "|       0.0|    Iris-setosa|    Iris-setosa|\n",
      "|       0.0|    Iris-setosa|    Iris-setosa|\n",
      "|       0.0|    Iris-setosa|    Iris-setosa|\n",
      "|       1.0|Iris-versicolor|Iris-versicolor|\n",
      "|       1.0|Iris-versicolor|Iris-versicolor|\n",
      "|       1.0|Iris-versicolor|Iris-versicolor|\n",
      "|       0.0|    Iris-setosa|    Iris-setosa|\n",
      "|       1.0|Iris-versicolor|Iris-versicolor|\n",
      "+----------+---------------+---------------+\n",
      "only showing top 20 rows\n",
      "\n"
     ]
    }
   ],
   "source": [
    "from pyspark.ml.classification import DecisionTreeClassificationModel,DecisionTreeClassifier\n",
    "from pyspark.ml.evaluation import MulticlassClassificationEvaluator\n",
    "dtClassifier = DecisionTreeClassifier().setLabelCol(\"indexedLabel\").setFeaturesCol(\"indexedFeatures\")\n",
    "pipelinedClassifier = Pipeline(stages=[labelIndexer,featureIndexer,dtClassifier,labelConverter])\n",
    "modelClassifier = pipelinedClassifier.fit(trainingData)\n",
    "predictionsClassifer = modelClassifier.transform(testData)\n",
    "predictionsClassifer.select(\"prediction\",\"label\",\"predictedLabel\").show()"
   ]
  },
  {
   "cell_type": "code",
   "execution_count": 33,
   "metadata": {},
   "outputs": [
    {
     "name": "stdout",
     "output_type": "stream",
     "text": [
      "Accurary:  0.925925925926\n"
     ]
    }
   ],
   "source": [
    "evaluatorClassifer = MulticlassClassificationEvaluator(labelCol=\"indexedLabel\",metricName=\"accuracy\")\n",
    "accurary = evaluatorClassifer.evaluate(predictionsClassifer)\n",
    "print \"Accurary: \",accurary"
   ]
  },
  {
   "cell_type": "code",
   "execution_count": 51,
   "metadata": {},
   "outputs": [
    {
     "name": "stdout",
     "output_type": "stream",
     "text": [
      "DecisionTreeClassificationModel (uid=DecisionTreeClassifier_42eead42bd8456ace68b) of depth 5 with 15 nodes\n",
      "  If (feature 2 <= 1.9)\n",
      "   Predict: 0.0\n",
      "  Else (feature 2 > 1.9)\n",
      "   If (feature 2 <= 4.7)\n",
      "    If (feature 3 <= 1.6)\n",
      "     Predict: 1.0\n",
      "    Else (feature 3 > 1.6)\n",
      "     Predict: 2.0\n",
      "   Else (feature 2 > 4.7)\n",
      "    If (feature 3 <= 1.7)\n",
      "     If (feature 3 <= 1.5)\n",
      "      Predict: 2.0\n",
      "     Else (feature 3 > 1.5)\n",
      "      Predict: 1.0\n",
      "    Else (feature 3 > 1.7)\n",
      "     If (feature 2 <= 4.8)\n",
      "      If (feature 0 <= 5.9)\n",
      "       Predict: 1.0\n",
      "      Else (feature 0 > 5.9)\n",
      "       Predict: 2.0\n",
      "     Else (feature 2 > 4.8)\n",
      "      Predict: 2.0\n",
      "\n"
     ]
    }
   ],
   "source": [
    "# modelClassifier.stages[2] \n",
    "treeModelClassifier = modelClassifier.stages[2]\n",
    "print treeModelClassifier.toDebugString"
   ]
  },
  {
   "cell_type": "code",
   "execution_count": 53,
   "metadata": {},
   "outputs": [
    {
     "name": "stdout",
     "output_type": "stream",
     "text": [
      "+-----------------+---------------+------------+-----------------+----------+---------------+\n",
      "|         features|          label|indexedLabel|  indexedFeatures|prediction| predictedLabel|\n",
      "+-----------------+---------------+------------+-----------------+----------+---------------+\n",
      "|[4.4,2.9,1.4,0.2]|    Iris-setosa|         0.0|[4.4,2.9,1.4,0.2]|       0.0|    Iris-setosa|\n",
      "|[4.4,3.2,1.3,0.2]|    Iris-setosa|         0.0|[4.4,3.2,1.3,0.2]|       0.0|    Iris-setosa|\n",
      "|[4.7,3.2,1.3,0.2]|    Iris-setosa|         0.0|[4.7,3.2,1.3,0.2]|       0.0|    Iris-setosa|\n",
      "|[4.7,3.2,1.6,0.2]|    Iris-setosa|         0.0|[4.7,3.2,1.6,0.2]|       0.0|    Iris-setosa|\n",
      "|[4.8,3.0,1.4,0.3]|    Iris-setosa|         0.0|[4.8,3.0,1.4,0.3]|       0.0|    Iris-setosa|\n",
      "|[4.8,3.4,1.6,0.2]|    Iris-setosa|         0.0|[4.8,3.4,1.6,0.2]|       0.0|    Iris-setosa|\n",
      "|[4.8,3.4,1.9,0.2]|    Iris-setosa|         0.0|[4.8,3.4,1.9,0.2]|       0.0|    Iris-setosa|\n",
      "|[4.9,3.0,1.4,0.2]|    Iris-setosa|         0.0|[4.9,3.0,1.4,0.2]|       0.0|    Iris-setosa|\n",
      "|[5.0,3.5,1.3,0.3]|    Iris-setosa|         0.0|[5.0,3.5,1.3,0.3]|       0.0|    Iris-setosa|\n",
      "|[5.0,3.5,1.6,0.6]|    Iris-setosa|         0.0|[5.0,3.5,1.6,0.6]|       0.0|    Iris-setosa|\n",
      "|[5.1,3.4,1.5,0.2]|    Iris-setosa|         0.0|[5.1,3.4,1.5,0.2]|       0.0|    Iris-setosa|\n",
      "|[5.1,3.5,1.4,0.2]|    Iris-setosa|         0.0|[5.1,3.5,1.4,0.2]|       0.0|    Iris-setosa|\n",
      "|[5.1,3.8,1.5,0.3]|    Iris-setosa|         0.0|[5.1,3.8,1.5,0.3]|       0.0|    Iris-setosa|\n",
      "|[5.1,3.8,1.6,0.2]|    Iris-setosa|         0.0|[5.1,3.8,1.6,0.2]|       0.0|    Iris-setosa|\n",
      "|[5.2,3.4,1.4,0.2]|    Iris-setosa|         0.0|[5.2,3.4,1.4,0.2]|       0.0|    Iris-setosa|\n",
      "|[5.5,2.5,4.0,1.3]|Iris-versicolor|         1.0|[5.5,2.5,4.0,1.3]|       1.0|Iris-versicolor|\n",
      "|[5.6,2.7,4.2,1.3]|Iris-versicolor|         1.0|[5.6,2.7,4.2,1.3]|       1.0|Iris-versicolor|\n",
      "|[5.7,2.8,4.1,1.3]|Iris-versicolor|         1.0|[5.7,2.8,4.1,1.3]|       1.0|Iris-versicolor|\n",
      "|[5.7,4.4,1.5,0.4]|    Iris-setosa|         0.0|[5.7,4.4,1.5,0.4]|       0.0|    Iris-setosa|\n",
      "|[5.8,2.7,3.9,1.2]|Iris-versicolor|         1.0|[5.8,2.7,3.9,1.2]|       1.0|Iris-versicolor|\n",
      "+-----------------+---------------+------------+-----------------+----------+---------------+\n",
      "only showing top 20 rows\n",
      "\n"
     ]
    }
   ],
   "source": [
    "from pyspark.ml.evaluation import RegressionEvaluator\n",
    "from pyspark.ml.regression import DecisionTreeRegressionModel,DecisionTreeRegressor\n",
    "dtRegressor = DecisionTreeRegressor().setLabelCol(\"indexedLabel\").setFeaturesCol(\"indexedFeatures\")\n",
    "pipelineRegressor = Pipeline(stages=[labelIndexer,featureIndexer,dtRegressor,labelConverter])\n",
    "modelRegressor = pipelineRegressor.fit(trainingData)\n",
    "predictsRegressor = modelRegressor.transform(testData)\n",
    "predictsRegressor.show()"
   ]
  },
  {
   "cell_type": "code",
   "execution_count": 55,
   "metadata": {},
   "outputs": [
    {
     "name": "stdout",
     "output_type": "stream",
     "text": [
      "Root Mean Squared Error (RMSE) on test data : 0.272165526976\n",
      "DecisionTreeClassificationModel (uid=DecisionTreeClassifier_42eead42bd8456ace68b) of depth 5 with 15 nodes\n",
      "  If (feature 2 <= 1.9)\n",
      "   Predict: 0.0\n",
      "  Else (feature 2 > 1.9)\n",
      "   If (feature 2 <= 4.7)\n",
      "    If (feature 3 <= 1.6)\n",
      "     Predict: 1.0\n",
      "    Else (feature 3 > 1.6)\n",
      "     Predict: 2.0\n",
      "   Else (feature 2 > 4.7)\n",
      "    If (feature 3 <= 1.7)\n",
      "     If (feature 3 <= 1.5)\n",
      "      Predict: 2.0\n",
      "     Else (feature 3 > 1.5)\n",
      "      Predict: 1.0\n",
      "    Else (feature 3 > 1.7)\n",
      "     If (feature 2 <= 4.8)\n",
      "      If (feature 0 <= 5.9)\n",
      "       Predict: 1.0\n",
      "      Else (feature 0 > 5.9)\n",
      "       Predict: 2.0\n",
      "     Else (feature 2 > 4.8)\n",
      "      Predict: 2.0\n",
      "\n"
     ]
    }
   ],
   "source": [
    "evaluatorRegressor = RegressionEvaluator().setLabelCol(\"indexedLabel\").setPredictionCol(\"prediction\").setMetricName(\"rmse\")\n",
    "rmse = evaluatorRegressor.evaluate(predictionsClassifer)\n",
    "print \"Root Mean Squared Error (RMSE) on test data :\",rmse\n",
    "treeModelRegressor = modelClassifier.stages[2]\n",
    "print treeModelRegressor.toDebugString"
   ]
  }
 ],
 "metadata": {
  "kernelspec": {
   "display_name": "Python 2",
   "language": "python",
   "name": "python2"
  },
  "language_info": {
   "codemirror_mode": {
    "name": "ipython",
    "version": 2
   },
   "file_extension": ".py",
   "mimetype": "text/x-python",
   "name": "python",
   "nbconvert_exporter": "python",
   "pygments_lexer": "ipython2",
   "version": "2.7.12+"
  }
 },
 "nbformat": 4,
 "nbformat_minor": 2
}
